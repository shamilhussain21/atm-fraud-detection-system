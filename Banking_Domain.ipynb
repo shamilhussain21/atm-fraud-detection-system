{
 "cells": [
  {
   "cell_type": "markdown",
   "id": "2b9ef97e-acb6-432b-9d2f-2ddb14c70432",
   "metadata": {},
   "source": [
    "# ATM Transaction Fraud Detection System"
   ]
  },
  {
   "cell_type": "markdown",
   "id": "f733d8de-9131-4648-a3f9-d6f2cfc6bdfc",
   "metadata": {},
   "source": [
    "## Problem statement\n",
    "An Australian bank has been experiencing financial losses and reputational risks due to fraudulent ATM transactions. These fraudulent cases are rare but critical, making traditional fraud detection approaches ineffective.\n",
    "\n",
    "To solve this, PredCatch Analytics has been engaged to build a predictive model that can accurately identify and flag fraudulent ATM transactions in real time, helping the bank reduce and potentially eliminate such incidents."
   ]
  },
  {
   "cell_type": "markdown",
   "id": "3609321f-f1d5-49d3-b593-9010956f5b06",
   "metadata": {},
   "source": [
    "### Importing Libraries"
   ]
  },
  {
   "cell_type": "code",
   "execution_count": 1,
   "id": "365b118a-ad7d-4be7-bfed-cbbe943d0bc2",
   "metadata": {},
   "outputs": [],
   "source": [
    "import os\n",
    "import numpy as np \n",
    "import pandas as pd\n",
    "import matplotlib.pyplot as plt\n",
    "import seaborn as sns\n",
    "sns.set()\n",
    "%matplotlib inline\n",
    "\n",
    "import warnings\n",
    "warnings.filterwarnings(\"ignore\")\n",
    "\n",
    "import sklearn\n",
    "from sklearn.model_selection import train_test_split "
   ]
  },
  {
   "cell_type": "markdown",
   "id": "832f1a46-82ff-41a1-9c95-6afe9f0033dc",
   "metadata": {},
   "source": [
    "### Loading the Datasets"
   ]
  },
  {
   "cell_type": "code",
   "execution_count": 2,
   "id": "6d5d7d92-d529-4636-a097-b0468c2f9396",
   "metadata": {},
   "outputs": [],
   "source": [
    "geo=pd.read_csv(\"Geo_scores.csv\")\n",
    "instance=pd.read_csv(\"instance_scores.csv\")\n",
    "lmbda=pd.read_csv(\"Lambda_wts.csv\")\n",
    "qset=pd.read_csv(\"Qset_tats.csv\")\n",
    "test=pd.read_csv(\"test_share.csv\")\n",
    "train=pd.read_csv(\"train.csv\")"
   ]
  },
  {
   "cell_type": "markdown",
   "id": "bd6ae7db-8ead-45d5-9b69-b6f86cf7e3b1",
   "metadata": {},
   "source": [
    "### Understanding the Shape of Each Dataset"
   ]
  },
  {
   "cell_type": "code",
   "execution_count": 3,
   "id": "bfb3d460-5d80-44eb-9872-5188775f6b23",
   "metadata": {},
   "outputs": [
    {
     "name": "stdout",
     "output_type": "stream",
     "text": [
      "Geo:      (1424035, 2)\n",
      "Instance: (1424035, 2)\n",
      "Lambda:   (1400, 2)\n",
      "Qset:     (1424035, 2)\n",
      "Test:     (56962, 27)\n",
      "Train:    (227845, 28)\n"
     ]
    }
   ],
   "source": [
    "print(\"Geo:     \", geo.shape)\n",
    "print(\"Instance:\", instance.shape)\n",
    "print(\"Lambda:  \", lmbda.shape)\n",
    "print(\"Qset:    \", qset.shape)\n",
    "print(\"Test:    \", test.shape)\n",
    "print(\"Train:   \", train.shape)"
   ]
  },
  {
   "cell_type": "markdown",
   "id": "590fd5fa-ca27-43e9-8dc3-778dbfa90f65",
   "metadata": {},
   "source": [
    "### Previewing the First Few Rows of Each Dataset"
   ]
  },
  {
   "cell_type": "code",
   "execution_count": 4,
   "id": "cbd82972-7659-470f-8d75-993ad1b24f1f",
   "metadata": {},
   "outputs": [
    {
     "name": "stdout",
     "output_type": "stream",
     "text": [
      "       id  geo_score\n",
      "0   26674       4.48\n",
      "1  204314       4.48\n",
      "-------------------\n",
      "       id  instance_scores\n",
      "0  173444            -0.88\n",
      "1  259378             1.50\n",
      "-------------------\n",
      "    Group  lambda_wt\n",
      "0  Grp936       3.41\n",
      "1  Grp347      -2.88\n",
      "-------------------\n",
      "       id  qsets_normalized_tat\n",
      "0    9983                  2.41\n",
      "1  266000                  3.10\n",
      "-------------------\n",
      "       id   Group      Per1      Per2  Per3      Per4  Per5      Per6  Per7  \\\n",
      "0  146574  Grp229 -0.300000  1.540000  0.22 -0.280000  0.57  0.260000  0.70   \n",
      "1  268759  Grp141  0.633333  0.953333  0.81  0.466667  0.91  0.253333  1.04   \n",
      "\n",
      "       Per8  ...      Dem7      Dem8      Dem9     Cred1     Cred2     Cred3  \\\n",
      "0  1.076667  ...  0.786667  0.546667  0.313333  0.703333  0.813333  0.776667   \n",
      "1  0.550000  ...  0.636667  0.770000  0.993333  0.536667  0.703333  0.806667   \n",
      "\n",
      "      Cred4     Cred5     Cred6  Normalised_FNT  \n",
      "0  0.796667  0.823333  0.783333       -249.7500  \n",
      "1  0.630000  0.673333  0.673333       -249.8125  \n",
      "\n",
      "[2 rows x 27 columns]\n",
      "-------------------\n",
      "       id   Group      Per1      Per2      Per3      Per4      Per5      Per6  \\\n",
      "0  112751  Grp169  1.070000  0.580000  0.480000  0.766667  1.233333  1.993333   \n",
      "1   18495  Grp161  0.473333  1.206667  0.883333  1.430000  0.726667  0.626667   \n",
      "\n",
      "   Per7      Per8  ...      Dem8      Dem9     Cred1  Cred2     Cred3  \\\n",
      "0  0.34  1.010000  ...  0.680000  0.726667  0.606667   1.01  0.933333   \n",
      "1  0.81  0.783333  ...  0.716667  0.743333  0.680000   0.69  0.560000   \n",
      "\n",
      "      Cred4     Cred5     Cred6  Normalised_FNT  Target  \n",
      "0  0.603333  0.686667  0.673333         -245.75       0  \n",
      "1  0.670000  0.553333  0.653333         -248.00       0  \n",
      "\n",
      "[2 rows x 28 columns]\n"
     ]
    }
   ],
   "source": [
    "print(geo.head(2))\n",
    "print(\"-------------------\")\n",
    "print(instance.head(2))\n",
    "print(\"-------------------\")\n",
    "print(lmbda.head(2))\n",
    "print(\"-------------------\")\n",
    "print(qset.head(2))\n",
    "print(\"-------------------\")\n",
    "print(test.head(2))\n",
    "print(\"-------------------\")\n",
    "print(train.head(2))"
   ]
  },
  {
   "cell_type": "markdown",
   "id": "eb596d8f-a712-4c67-8ac8-43685519a6b4",
   "metadata": {},
   "source": [
    "### Inspecting Dataset Information"
   ]
  },
  {
   "cell_type": "code",
   "execution_count": 5,
   "id": "0dcc1f31-a809-4c7b-bef3-c4c9fee299aa",
   "metadata": {},
   "outputs": [
    {
     "name": "stdout",
     "output_type": "stream",
     "text": [
      "<class 'pandas.core.frame.DataFrame'>\n",
      "RangeIndex: 1424035 entries, 0 to 1424034\n",
      "Data columns (total 2 columns):\n",
      " #   Column     Non-Null Count    Dtype  \n",
      "---  ------     --------------    -----  \n",
      " 0   id         1424035 non-null  int64  \n",
      " 1   geo_score  1352492 non-null  float64\n",
      "dtypes: float64(1), int64(1)\n",
      "memory usage: 21.7 MB\n",
      "None\n",
      "-------------------\n",
      "<class 'pandas.core.frame.DataFrame'>\n",
      "RangeIndex: 1424035 entries, 0 to 1424034\n",
      "Data columns (total 2 columns):\n",
      " #   Column           Non-Null Count    Dtype  \n",
      "---  ------           --------------    -----  \n",
      " 0   id               1424035 non-null  int64  \n",
      " 1   instance_scores  1424035 non-null  float64\n",
      "dtypes: float64(1), int64(1)\n",
      "memory usage: 21.7 MB\n",
      "None\n",
      "-------------------\n",
      "<class 'pandas.core.frame.DataFrame'>\n",
      "RangeIndex: 1400 entries, 0 to 1399\n",
      "Data columns (total 2 columns):\n",
      " #   Column     Non-Null Count  Dtype  \n",
      "---  ------     --------------  -----  \n",
      " 0   Group      1400 non-null   object \n",
      " 1   lambda_wt  1400 non-null   float64\n",
      "dtypes: float64(1), object(1)\n",
      "memory usage: 22.0+ KB\n",
      "None\n",
      "-------------------\n",
      "<class 'pandas.core.frame.DataFrame'>\n",
      "RangeIndex: 1424035 entries, 0 to 1424034\n",
      "Data columns (total 2 columns):\n",
      " #   Column                Non-Null Count    Dtype  \n",
      "---  ------                --------------    -----  \n",
      " 0   id                    1424035 non-null  int64  \n",
      " 1   qsets_normalized_tat  1320834 non-null  float64\n",
      "dtypes: float64(1), int64(1)\n",
      "memory usage: 21.7 MB\n",
      "None\n",
      "-------------------\n",
      "<class 'pandas.core.frame.DataFrame'>\n",
      "RangeIndex: 56962 entries, 0 to 56961\n",
      "Data columns (total 27 columns):\n",
      " #   Column          Non-Null Count  Dtype  \n",
      "---  ------          --------------  -----  \n",
      " 0   id              56962 non-null  int64  \n",
      " 1   Group           56962 non-null  object \n",
      " 2   Per1            56962 non-null  float64\n",
      " 3   Per2            56962 non-null  float64\n",
      " 4   Per3            56962 non-null  float64\n",
      " 5   Per4            56962 non-null  float64\n",
      " 6   Per5            56962 non-null  float64\n",
      " 7   Per6            56962 non-null  float64\n",
      " 8   Per7            56962 non-null  float64\n",
      " 9   Per8            56962 non-null  float64\n",
      " 10  Per9            56962 non-null  float64\n",
      " 11  Dem1            56962 non-null  float64\n",
      " 12  Dem2            56962 non-null  float64\n",
      " 13  Dem3            56962 non-null  float64\n",
      " 14  Dem4            56962 non-null  float64\n",
      " 15  Dem5            56962 non-null  float64\n",
      " 16  Dem6            56962 non-null  float64\n",
      " 17  Dem7            56962 non-null  float64\n",
      " 18  Dem8            56962 non-null  float64\n",
      " 19  Dem9            56962 non-null  float64\n",
      " 20  Cred1           56962 non-null  float64\n",
      " 21  Cred2           56962 non-null  float64\n",
      " 22  Cred3           56962 non-null  float64\n",
      " 23  Cred4           56962 non-null  float64\n",
      " 24  Cred5           56962 non-null  float64\n",
      " 25  Cred6           56962 non-null  float64\n",
      " 26  Normalised_FNT  56962 non-null  float64\n",
      "dtypes: float64(25), int64(1), object(1)\n",
      "memory usage: 11.7+ MB\n",
      "None\n",
      "-------------------\n",
      "<class 'pandas.core.frame.DataFrame'>\n",
      "RangeIndex: 227845 entries, 0 to 227844\n",
      "Data columns (total 28 columns):\n",
      " #   Column          Non-Null Count   Dtype  \n",
      "---  ------          --------------   -----  \n",
      " 0   id              227845 non-null  int64  \n",
      " 1   Group           227845 non-null  object \n",
      " 2   Per1            227845 non-null  float64\n",
      " 3   Per2            227845 non-null  float64\n",
      " 4   Per3            227845 non-null  float64\n",
      " 5   Per4            227845 non-null  float64\n",
      " 6   Per5            227845 non-null  float64\n",
      " 7   Per6            227845 non-null  float64\n",
      " 8   Per7            227845 non-null  float64\n",
      " 9   Per8            227845 non-null  float64\n",
      " 10  Per9            227845 non-null  float64\n",
      " 11  Dem1            227845 non-null  float64\n",
      " 12  Dem2            227845 non-null  float64\n",
      " 13  Dem3            227845 non-null  float64\n",
      " 14  Dem4            227845 non-null  float64\n",
      " 15  Dem5            227845 non-null  float64\n",
      " 16  Dem6            227845 non-null  float64\n",
      " 17  Dem7            227845 non-null  float64\n",
      " 18  Dem8            227845 non-null  float64\n",
      " 19  Dem9            227845 non-null  float64\n",
      " 20  Cred1           227845 non-null  float64\n",
      " 21  Cred2           227845 non-null  float64\n",
      " 22  Cred3           227845 non-null  float64\n",
      " 23  Cred4           227845 non-null  float64\n",
      " 24  Cred5           227845 non-null  float64\n",
      " 25  Cred6           227845 non-null  float64\n",
      " 26  Normalised_FNT  227845 non-null  float64\n",
      " 27  Target          227845 non-null  int64  \n",
      "dtypes: float64(25), int64(2), object(1)\n",
      "memory usage: 48.7+ MB\n",
      "None\n"
     ]
    }
   ],
   "source": [
    "print(geo.info())\n",
    "print(\"-------------------\")\n",
    "print(instance.info())\n",
    "print(\"-------------------\")\n",
    "print(lmbda.info())\n",
    "print(\"-------------------\")\n",
    "print(qset.info())\n",
    "print(\"-------------------\")\n",
    "print(test.info())\n",
    "print(\"-------------------\")\n",
    "print(train.info())"
   ]
  },
  {
   "cell_type": "markdown",
   "id": "9e15ad48-06d9-4a81-8a1b-10db9b601b17",
   "metadata": {},
   "source": [
    "###  Checking for Missing Values"
   ]
  },
  {
   "cell_type": "code",
   "execution_count": 6,
   "id": "3ffe08f4-172f-46ea-928c-bf9c4b9c505a",
   "metadata": {},
   "outputs": [
    {
     "name": "stdout",
     "output_type": "stream",
     "text": [
      "id               0\n",
      "geo_score    71543\n",
      "dtype: int64\n",
      "-------------------\n",
      "id                 0\n",
      "instance_scores    0\n",
      "dtype: int64\n",
      "-------------------\n",
      "Group        0\n",
      "lambda_wt    0\n",
      "dtype: int64\n",
      "-------------------\n",
      "id                           0\n",
      "qsets_normalized_tat    103201\n",
      "dtype: int64\n",
      "-------------------\n",
      "id                0\n",
      "Group             0\n",
      "Per1              0\n",
      "Per2              0\n",
      "Per3              0\n",
      "Per4              0\n",
      "Per5              0\n",
      "Per6              0\n",
      "Per7              0\n",
      "Per8              0\n",
      "Per9              0\n",
      "Dem1              0\n",
      "Dem2              0\n",
      "Dem3              0\n",
      "Dem4              0\n",
      "Dem5              0\n",
      "Dem6              0\n",
      "Dem7              0\n",
      "Dem8              0\n",
      "Dem9              0\n",
      "Cred1             0\n",
      "Cred2             0\n",
      "Cred3             0\n",
      "Cred4             0\n",
      "Cred5             0\n",
      "Cred6             0\n",
      "Normalised_FNT    0\n",
      "dtype: int64\n",
      "-------------------\n",
      "id                0\n",
      "Group             0\n",
      "Per1              0\n",
      "Per2              0\n",
      "Per3              0\n",
      "Per4              0\n",
      "Per5              0\n",
      "Per6              0\n",
      "Per7              0\n",
      "Per8              0\n",
      "Per9              0\n",
      "Dem1              0\n",
      "Dem2              0\n",
      "Dem3              0\n",
      "Dem4              0\n",
      "Dem5              0\n",
      "Dem6              0\n",
      "Dem7              0\n",
      "Dem8              0\n",
      "Dem9              0\n",
      "Cred1             0\n",
      "Cred2             0\n",
      "Cred3             0\n",
      "Cred4             0\n",
      "Cred5             0\n",
      "Cred6             0\n",
      "Normalised_FNT    0\n",
      "Target            0\n",
      "dtype: int64\n"
     ]
    }
   ],
   "source": [
    "print(geo.isnull().sum())\n",
    "print(\"-------------------\")\n",
    "print(instance.isnull().sum())\n",
    "print(\"-------------------\")\n",
    "print(lmbda.isnull().sum())\n",
    "print(\"-------------------\")\n",
    "print(qset.isnull().sum())\n",
    "print(\"-------------------\")\n",
    "print(test.isnull().sum())\n",
    "print(\"-------------------\")\n",
    "print(train.isnull().sum())"
   ]
  },
  {
   "cell_type": "markdown",
   "id": "02d51612-3c35-4b05-add0-a0622f73a5f9",
   "metadata": {},
   "source": [
    "#### Found missing values in geo_score and qsets_normalized_tat columns which need to be handled before model building"
   ]
  },
  {
   "cell_type": "markdown",
   "id": "d89b114d-905c-4f07-92f0-2a20bba86680",
   "metadata": {},
   "source": [
    "### Checking the number of unique IDs and groups in each dataset"
   ]
  },
  {
   "cell_type": "code",
   "execution_count": 7,
   "id": "b442e81a-71b6-4bef-93c6-048d589722e1",
   "metadata": {},
   "outputs": [
    {
     "name": "stdout",
     "output_type": "stream",
     "text": [
      "****************** Unique ID to the customer ***************\n",
      "Geo 284807\n",
      "-------------------\n",
      "Instance 284807\n",
      "-------------------\n",
      "qset 284807\n",
      "-------------------\n",
      "test 56962\n",
      "-------------------\n",
      "train 227845\n",
      "****************** Unique Group to the customer ***************\n",
      "-------------------\n",
      "lmbda 1400\n",
      "-------------------\n",
      "test 915\n",
      "-------------------\n",
      "train 1301\n",
      "-------------------\n"
     ]
    }
   ],
   "source": [
    "print(\"****************** Unique ID to the customer ***************\")\n",
    "print(\"Geo\",geo['id'].nunique())\n",
    "print(\"-------------------\")\n",
    "print(\"Instance\",instance['id'].nunique())\n",
    "print(\"-------------------\")\n",
    "print(\"qset\",qset['id'].nunique())\n",
    "print(\"-------------------\")\n",
    "print(\"test\",test['id'].nunique())\n",
    "print(\"-------------------\")\n",
    "print(\"train\",train['id'].nunique())\n",
    "print(\"****************** Unique Group to the customer ***************\")\n",
    "print(\"-------------------\")\n",
    "print(\"lmbda\",lmbda['Group'].nunique())\n",
    "print(\"-------------------\")\n",
    "print(\"test\",test['Group'].nunique())\n",
    "print(\"-------------------\")\n",
    "print(\"train\",train['Group'].nunique())\n",
    "print(\"-------------------\")"
   ]
  },
  {
   "cell_type": "markdown",
   "id": "5cb95ad1-aac4-47e5-91be-de1a4de7e082",
   "metadata": {},
   "source": [
    "### Checking missing values percentage in 'geo' and 'qset' dataset"
   ]
  },
  {
   "cell_type": "code",
   "execution_count": 8,
   "id": "b761a111-d42e-484d-abae-24bc26b09beb",
   "metadata": {},
   "outputs": [
    {
     "name": "stdout",
     "output_type": "stream",
     "text": [
      "id           0.000000\n",
      "geo_score    5.023964\n",
      "dtype: float64\n",
      "***********\n",
      "id                      0.000000\n",
      "qsets_normalized_tat    7.247083\n",
      "dtype: float64\n"
     ]
    }
   ],
   "source": [
    "print(geo.isnull().sum()/len(geo)*100)\n",
    "print(\"***********\")\n",
    "print(qset.isnull().sum()/len(geo)*100)\n"
   ]
  },
  {
   "cell_type": "code",
   "execution_count": 9,
   "id": "99131bdf-d763-4e9d-a3b0-bb8ea29c4be9",
   "metadata": {},
   "outputs": [
    {
     "name": "stdout",
     "output_type": "stream",
     "text": [
      "<class 'pandas.core.frame.DataFrame'>\n",
      "RangeIndex: 1424035 entries, 0 to 1424034\n",
      "Data columns (total 2 columns):\n",
      " #   Column     Non-Null Count    Dtype  \n",
      "---  ------     --------------    -----  \n",
      " 0   id         1424035 non-null  int64  \n",
      " 1   geo_score  1352492 non-null  float64\n",
      "dtypes: float64(1), int64(1)\n",
      "memory usage: 21.7 MB\n"
     ]
    }
   ],
   "source": [
    "geo.info()"
   ]
  },
  {
   "cell_type": "code",
   "execution_count": 10,
   "id": "f905c794-8d71-4337-bb4a-4a54b9a34602",
   "metadata": {},
   "outputs": [
    {
     "data": {
      "image/png": "[encoded data removed]",
      "text/plain": [
       "<Figure size 640x480 with 1 Axes>"
      ]
     },
     "metadata": {},
     "output_type": "display_data"
    }
   ],
   "source": [
    "sns.boxplot(y='geo_score',data=geo)\n",
    "plt.show()"
   ]
  },
  {
   "cell_type": "code",
   "execution_count": 11,
   "id": "348b4e74-0893-46e4-b196-029bd2208556",
   "metadata": {},
   "outputs": [
    {
     "name": "stdout",
     "output_type": "stream",
     "text": [
      "<class 'pandas.core.frame.DataFrame'>\n",
      "RangeIndex: 1424035 entries, 0 to 1424034\n",
      "Data columns (total 2 columns):\n",
      " #   Column                Non-Null Count    Dtype  \n",
      "---  ------                --------------    -----  \n",
      " 0   id                    1424035 non-null  int64  \n",
      " 1   qsets_normalized_tat  1320834 non-null  float64\n",
      "dtypes: float64(1), int64(1)\n",
      "memory usage: 21.7 MB\n"
     ]
    }
   ],
   "source": [
    "qset.info()"
   ]
  },
  {
   "cell_type": "code",
   "execution_count": 12,
   "id": "a11f0ed4-fe0c-44db-a201-eff345c6c19d",
   "metadata": {},
   "outputs": [
    {
     "data": {
      "image/png": "[encoded data removed]",
      "text/plain": [
       "<Figure size 640x480 with 1 Axes>"
      ]
     },
     "metadata": {},
     "output_type": "display_data"
    }
   ],
   "source": [
    "sns.boxplot(y='qsets_normalized_tat',data=qset)\n",
    "plt.show()"
   ]
  },
  {
   "cell_type": "markdown",
   "id": "46c75813-3265-49e5-bd2a-2d7900adb1b9",
   "metadata": {},
   "source": [
    "### Imputing missing values in geo_score and qsets_normalized_tat"
   ]
  },
  {
   "cell_type": "code",
   "execution_count": 13,
   "id": "af4fa1e0-b633-4160-8f5b-9d7c26252c22",
   "metadata": {},
   "outputs": [],
   "source": [
    "geo['geo_score']=geo['geo_score'].fillna(geo['geo_score'].median())\n",
    "qset['qsets_normalized_tat']=qset['qsets_normalized_tat'].fillna(qset['qsets_normalized_tat'].median())"
   ]
  },
  {
   "cell_type": "code",
   "execution_count": 14,
   "id": "e3d6ce9c-1e24-4a8f-a16c-d5951f06fe30",
   "metadata": {},
   "outputs": [
    {
     "name": "stdout",
     "output_type": "stream",
     "text": [
      "id           0.0\n",
      "geo_score    0.0\n",
      "dtype: float64\n",
      "*****************\n",
      "id                      0.0\n",
      "qsets_normalized_tat    0.0\n",
      "dtype: float64\n"
     ]
    }
   ],
   "source": [
    "print(geo.isnull().sum()/len(geo)*100)\n",
    "print(\"*****************\")\n",
    "print(qset.isnull().sum()/len(geo)*100)"
   ]
  },
  {
   "cell_type": "code",
   "execution_count": 15,
   "id": "17ae42b1-308e-4016-b983-feb17d3c7ac6",
   "metadata": {
    "scrolled": true
   },
   "outputs": [
    {
     "data": {
      "text/html": [
       "<div>\n",
       "<style scoped>\n",
       "    .dataframe tbody tr th:only-of-type {\n",
       "        vertical-align: middle;\n",
       "    }\n",
       "\n",
       "    .dataframe tbody tr th {\n",
       "        vertical-align: top;\n",
       "    }\n",
       "\n",
       "    .dataframe thead th {\n",
       "        text-align: right;\n",
       "    }\n",
       "</style>\n",
       "<table border=\"1\" class=\"dataframe\">\n",
       "  <thead>\n",
       "    <tr style=\"text-align: right;\">\n",
       "      <th></th>\n",
       "      <th>id</th>\n",
       "      <th>geo_score</th>\n",
       "    </tr>\n",
       "  </thead>\n",
       "  <tbody>\n",
       "    <tr>\n",
       "      <th>count</th>\n",
       "      <td>1.424035e+06</td>\n",
       "      <td>1.424035e+06</td>\n",
       "    </tr>\n",
       "    <tr>\n",
       "      <th>mean</th>\n",
       "      <td>1.424030e+05</td>\n",
       "      <td>9.034321e-03</td>\n",
       "    </tr>\n",
       "    <tr>\n",
       "      <th>std</th>\n",
       "      <td>8.221673e+04</td>\n",
       "      <td>7.628149e+00</td>\n",
       "    </tr>\n",
       "    <tr>\n",
       "      <th>min</th>\n",
       "      <td>0.000000e+00</td>\n",
       "      <td>-1.093900e+02</td>\n",
       "    </tr>\n",
       "    <tr>\n",
       "      <th>25%</th>\n",
       "      <td>7.120100e+04</td>\n",
       "      <td>-5.170000e+00</td>\n",
       "    </tr>\n",
       "    <tr>\n",
       "      <th>50%</th>\n",
       "      <td>1.424030e+05</td>\n",
       "      <td>1.800000e-01</td>\n",
       "    </tr>\n",
       "    <tr>\n",
       "      <th>75%</th>\n",
       "      <td>2.136050e+05</td>\n",
       "      <td>5.170000e+00</td>\n",
       "    </tr>\n",
       "    <tr>\n",
       "      <th>max</th>\n",
       "      <td>2.848060e+05</td>\n",
       "      <td>4.581000e+01</td>\n",
       "    </tr>\n",
       "  </tbody>\n",
       "</table>\n",
       "</div>"
      ],
      "text/plain": [
       "                 id     geo_score\n",
       "count  1.424035e+06  1.424035e+06\n",
       "mean   1.424030e+05  9.034321e-03\n",
       "std    8.221673e+04  7.628149e+00\n",
       "min    0.000000e+00 -1.093900e+02\n",
       "25%    7.120100e+04 -5.170000e+00\n",
       "50%    1.424030e+05  1.800000e-01\n",
       "75%    2.136050e+05  5.170000e+00\n",
       "max    2.848060e+05  4.581000e+01"
      ]
     },
     "execution_count": 15,
     "metadata": {},
     "output_type": "execute_result"
    }
   ],
   "source": [
    "geo.describe()"
   ]
  },
  {
   "cell_type": "code",
   "execution_count": 16,
   "id": "3014d541-2d9d-4446-bf5e-19f3ef004ea4",
   "metadata": {},
   "outputs": [
    {
     "data": {
      "text/html": [
       "<div>\n",
       "<style scoped>\n",
       "    .dataframe tbody tr th:only-of-type {\n",
       "        vertical-align: middle;\n",
       "    }\n",
       "\n",
       "    .dataframe tbody tr th {\n",
       "        vertical-align: top;\n",
       "    }\n",
       "\n",
       "    .dataframe thead th {\n",
       "        text-align: right;\n",
       "    }\n",
       "</style>\n",
       "<table border=\"1\" class=\"dataframe\">\n",
       "  <thead>\n",
       "    <tr style=\"text-align: right;\">\n",
       "      <th></th>\n",
       "      <th>id</th>\n",
       "      <th>Group</th>\n",
       "      <th>Per1</th>\n",
       "      <th>Per2</th>\n",
       "      <th>Per3</th>\n",
       "      <th>Per4</th>\n",
       "      <th>Per5</th>\n",
       "      <th>Per6</th>\n",
       "      <th>Per7</th>\n",
       "      <th>Per8</th>\n",
       "      <th>...</th>\n",
       "      <th>Dem7</th>\n",
       "      <th>Dem8</th>\n",
       "      <th>Dem9</th>\n",
       "      <th>Cred1</th>\n",
       "      <th>Cred2</th>\n",
       "      <th>Cred3</th>\n",
       "      <th>Cred4</th>\n",
       "      <th>Cred5</th>\n",
       "      <th>Cred6</th>\n",
       "      <th>Normalised_FNT</th>\n",
       "    </tr>\n",
       "  </thead>\n",
       "  <tbody>\n",
       "    <tr>\n",
       "      <th>0</th>\n",
       "      <td>146574</td>\n",
       "      <td>Grp229</td>\n",
       "      <td>-0.300000</td>\n",
       "      <td>1.540000</td>\n",
       "      <td>0.22</td>\n",
       "      <td>-0.280000</td>\n",
       "      <td>0.57</td>\n",
       "      <td>0.260000</td>\n",
       "      <td>0.70</td>\n",
       "      <td>1.076667</td>\n",
       "      <td>...</td>\n",
       "      <td>0.786667</td>\n",
       "      <td>0.546667</td>\n",
       "      <td>0.313333</td>\n",
       "      <td>0.703333</td>\n",
       "      <td>0.813333</td>\n",
       "      <td>0.776667</td>\n",
       "      <td>0.796667</td>\n",
       "      <td>0.823333</td>\n",
       "      <td>0.783333</td>\n",
       "      <td>-249.7500</td>\n",
       "    </tr>\n",
       "    <tr>\n",
       "      <th>1</th>\n",
       "      <td>268759</td>\n",
       "      <td>Grp141</td>\n",
       "      <td>0.633333</td>\n",
       "      <td>0.953333</td>\n",
       "      <td>0.81</td>\n",
       "      <td>0.466667</td>\n",
       "      <td>0.91</td>\n",
       "      <td>0.253333</td>\n",
       "      <td>1.04</td>\n",
       "      <td>0.550000</td>\n",
       "      <td>...</td>\n",
       "      <td>0.636667</td>\n",
       "      <td>0.770000</td>\n",
       "      <td>0.993333</td>\n",
       "      <td>0.536667</td>\n",
       "      <td>0.703333</td>\n",
       "      <td>0.806667</td>\n",
       "      <td>0.630000</td>\n",
       "      <td>0.673333</td>\n",
       "      <td>0.673333</td>\n",
       "      <td>-249.8125</td>\n",
       "    </tr>\n",
       "  </tbody>\n",
       "</table>\n",
       "<p>2 rows × 27 columns</p>\n",
       "</div>"
      ],
      "text/plain": [
       "       id   Group      Per1      Per2  Per3      Per4  Per5      Per6  Per7  \\\n",
       "0  146574  Grp229 -0.300000  1.540000  0.22 -0.280000  0.57  0.260000  0.70   \n",
       "1  268759  Grp141  0.633333  0.953333  0.81  0.466667  0.91  0.253333  1.04   \n",
       "\n",
       "       Per8  ...      Dem7      Dem8      Dem9     Cred1     Cred2     Cred3  \\\n",
       "0  1.076667  ...  0.786667  0.546667  0.313333  0.703333  0.813333  0.776667   \n",
       "1  0.550000  ...  0.636667  0.770000  0.993333  0.536667  0.703333  0.806667   \n",
       "\n",
       "      Cred4     Cred5     Cred6  Normalised_FNT  \n",
       "0  0.796667  0.823333  0.783333       -249.7500  \n",
       "1  0.630000  0.673333  0.673333       -249.8125  \n",
       "\n",
       "[2 rows x 27 columns]"
      ]
     },
     "execution_count": 16,
     "metadata": {},
     "output_type": "execute_result"
    }
   ],
   "source": [
    "test.head(2)"
   ]
  },
  {
   "cell_type": "code",
   "execution_count": 17,
   "id": "ce9923c7-934f-4726-abcf-846cbc221e98",
   "metadata": {},
   "outputs": [
    {
     "data": {
      "text/html": [
       "<div>\n",
       "<style scoped>\n",
       "    .dataframe tbody tr th:only-of-type {\n",
       "        vertical-align: middle;\n",
       "    }\n",
       "\n",
       "    .dataframe tbody tr th {\n",
       "        vertical-align: top;\n",
       "    }\n",
       "\n",
       "    .dataframe thead th {\n",
       "        text-align: right;\n",
       "    }\n",
       "</style>\n",
       "<table border=\"1\" class=\"dataframe\">\n",
       "  <thead>\n",
       "    <tr style=\"text-align: right;\">\n",
       "      <th></th>\n",
       "      <th>id</th>\n",
       "      <th>Group</th>\n",
       "      <th>Per1</th>\n",
       "      <th>Per2</th>\n",
       "      <th>Per3</th>\n",
       "      <th>Per4</th>\n",
       "      <th>Per5</th>\n",
       "      <th>Per6</th>\n",
       "      <th>Per7</th>\n",
       "      <th>Per8</th>\n",
       "      <th>...</th>\n",
       "      <th>Dem7</th>\n",
       "      <th>Dem8</th>\n",
       "      <th>Dem9</th>\n",
       "      <th>Cred1</th>\n",
       "      <th>Cred2</th>\n",
       "      <th>Cred3</th>\n",
       "      <th>Cred4</th>\n",
       "      <th>Cred5</th>\n",
       "      <th>Cred6</th>\n",
       "      <th>Normalised_FNT</th>\n",
       "    </tr>\n",
       "  </thead>\n",
       "  <tbody>\n",
       "    <tr>\n",
       "      <th>0</th>\n",
       "      <td>146574</td>\n",
       "      <td>Grp229</td>\n",
       "      <td>-0.300000</td>\n",
       "      <td>1.540000</td>\n",
       "      <td>0.22</td>\n",
       "      <td>-0.280000</td>\n",
       "      <td>0.57</td>\n",
       "      <td>0.260000</td>\n",
       "      <td>0.70</td>\n",
       "      <td>1.076667</td>\n",
       "      <td>...</td>\n",
       "      <td>0.786667</td>\n",
       "      <td>0.546667</td>\n",
       "      <td>0.313333</td>\n",
       "      <td>0.703333</td>\n",
       "      <td>0.813333</td>\n",
       "      <td>0.776667</td>\n",
       "      <td>0.796667</td>\n",
       "      <td>0.823333</td>\n",
       "      <td>0.783333</td>\n",
       "      <td>-249.7500</td>\n",
       "    </tr>\n",
       "    <tr>\n",
       "      <th>1</th>\n",
       "      <td>268759</td>\n",
       "      <td>Grp141</td>\n",
       "      <td>0.633333</td>\n",
       "      <td>0.953333</td>\n",
       "      <td>0.81</td>\n",
       "      <td>0.466667</td>\n",
       "      <td>0.91</td>\n",
       "      <td>0.253333</td>\n",
       "      <td>1.04</td>\n",
       "      <td>0.550000</td>\n",
       "      <td>...</td>\n",
       "      <td>0.636667</td>\n",
       "      <td>0.770000</td>\n",
       "      <td>0.993333</td>\n",
       "      <td>0.536667</td>\n",
       "      <td>0.703333</td>\n",
       "      <td>0.806667</td>\n",
       "      <td>0.630000</td>\n",
       "      <td>0.673333</td>\n",
       "      <td>0.673333</td>\n",
       "      <td>-249.8125</td>\n",
       "    </tr>\n",
       "  </tbody>\n",
       "</table>\n",
       "<p>2 rows × 27 columns</p>\n",
       "</div>"
      ],
      "text/plain": [
       "       id   Group      Per1      Per2  Per3      Per4  Per5      Per6  Per7  \\\n",
       "0  146574  Grp229 -0.300000  1.540000  0.22 -0.280000  0.57  0.260000  0.70   \n",
       "1  268759  Grp141  0.633333  0.953333  0.81  0.466667  0.91  0.253333  1.04   \n",
       "\n",
       "       Per8  ...      Dem7      Dem8      Dem9     Cred1     Cred2     Cred3  \\\n",
       "0  1.076667  ...  0.786667  0.546667  0.313333  0.703333  0.813333  0.776667   \n",
       "1  0.550000  ...  0.636667  0.770000  0.993333  0.536667  0.703333  0.806667   \n",
       "\n",
       "      Cred4     Cred5     Cred6  Normalised_FNT  \n",
       "0  0.796667  0.823333  0.783333       -249.7500  \n",
       "1  0.630000  0.673333  0.673333       -249.8125  \n",
       "\n",
       "[2 rows x 27 columns]"
      ]
     },
     "execution_count": 17,
     "metadata": {},
     "output_type": "execute_result"
    }
   ],
   "source": [
    "test.head(2)"
   ]
  },
  {
   "cell_type": "code",
   "execution_count": 18,
   "id": "3b91dd04-a112-45d8-aa40-e9303945c3a8",
   "metadata": {},
   "outputs": [],
   "source": [
    "train['data'] = 'train'\n",
    "test['data'] = 'test'"
   ]
  },
  {
   "cell_type": "code",
   "execution_count": 19,
   "id": "3d0be1bf-2504-49e9-b5f8-d171ec236804",
   "metadata": {},
   "outputs": [
    {
     "data": {
      "text/html": [
       "<div>\n",
       "<style scoped>\n",
       "    .dataframe tbody tr th:only-of-type {\n",
       "        vertical-align: middle;\n",
       "    }\n",
       "\n",
       "    .dataframe tbody tr th {\n",
       "        vertical-align: top;\n",
       "    }\n",
       "\n",
       "    .dataframe thead th {\n",
       "        text-align: right;\n",
       "    }\n",
       "</style>\n",
       "<table border=\"1\" class=\"dataframe\">\n",
       "  <thead>\n",
       "    <tr style=\"text-align: right;\">\n",
       "      <th></th>\n",
       "      <th>id</th>\n",
       "      <th>Group</th>\n",
       "      <th>Per1</th>\n",
       "      <th>Per2</th>\n",
       "      <th>Per3</th>\n",
       "      <th>Per4</th>\n",
       "      <th>Per5</th>\n",
       "      <th>Per6</th>\n",
       "      <th>Per7</th>\n",
       "      <th>Per8</th>\n",
       "      <th>...</th>\n",
       "      <th>Dem9</th>\n",
       "      <th>Cred1</th>\n",
       "      <th>Cred2</th>\n",
       "      <th>Cred3</th>\n",
       "      <th>Cred4</th>\n",
       "      <th>Cred5</th>\n",
       "      <th>Cred6</th>\n",
       "      <th>Normalised_FNT</th>\n",
       "      <th>Target</th>\n",
       "      <th>data</th>\n",
       "    </tr>\n",
       "  </thead>\n",
       "  <tbody>\n",
       "    <tr>\n",
       "      <th>0</th>\n",
       "      <td>112751</td>\n",
       "      <td>Grp169</td>\n",
       "      <td>1.070000</td>\n",
       "      <td>0.580000</td>\n",
       "      <td>0.480000</td>\n",
       "      <td>0.766667</td>\n",
       "      <td>1.233333</td>\n",
       "      <td>1.993333</td>\n",
       "      <td>0.34</td>\n",
       "      <td>1.010000</td>\n",
       "      <td>...</td>\n",
       "      <td>0.726667</td>\n",
       "      <td>0.606667</td>\n",
       "      <td>1.01</td>\n",
       "      <td>0.933333</td>\n",
       "      <td>0.603333</td>\n",
       "      <td>0.686667</td>\n",
       "      <td>0.673333</td>\n",
       "      <td>-245.75</td>\n",
       "      <td>0</td>\n",
       "      <td>train</td>\n",
       "    </tr>\n",
       "    <tr>\n",
       "      <th>1</th>\n",
       "      <td>18495</td>\n",
       "      <td>Grp161</td>\n",
       "      <td>0.473333</td>\n",
       "      <td>1.206667</td>\n",
       "      <td>0.883333</td>\n",
       "      <td>1.430000</td>\n",
       "      <td>0.726667</td>\n",
       "      <td>0.626667</td>\n",
       "      <td>0.81</td>\n",
       "      <td>0.783333</td>\n",
       "      <td>...</td>\n",
       "      <td>0.743333</td>\n",
       "      <td>0.680000</td>\n",
       "      <td>0.69</td>\n",
       "      <td>0.560000</td>\n",
       "      <td>0.670000</td>\n",
       "      <td>0.553333</td>\n",
       "      <td>0.653333</td>\n",
       "      <td>-248.00</td>\n",
       "      <td>0</td>\n",
       "      <td>train</td>\n",
       "    </tr>\n",
       "  </tbody>\n",
       "</table>\n",
       "<p>2 rows × 29 columns</p>\n",
       "</div>"
      ],
      "text/plain": [
       "       id   Group      Per1      Per2      Per3      Per4      Per5      Per6  \\\n",
       "0  112751  Grp169  1.070000  0.580000  0.480000  0.766667  1.233333  1.993333   \n",
       "1   18495  Grp161  0.473333  1.206667  0.883333  1.430000  0.726667  0.626667   \n",
       "\n",
       "   Per7      Per8  ...      Dem9     Cred1  Cred2     Cred3     Cred4  \\\n",
       "0  0.34  1.010000  ...  0.726667  0.606667   1.01  0.933333  0.603333   \n",
       "1  0.81  0.783333  ...  0.743333  0.680000   0.69  0.560000  0.670000   \n",
       "\n",
       "      Cred5     Cred6  Normalised_FNT  Target   data  \n",
       "0  0.686667  0.673333         -245.75       0  train  \n",
       "1  0.553333  0.653333         -248.00       0  train  \n",
       "\n",
       "[2 rows x 29 columns]"
      ]
     },
     "execution_count": 19,
     "metadata": {},
     "output_type": "execute_result"
    }
   ],
   "source": [
    "train.head(2)"
   ]
  },
  {
   "cell_type": "code",
   "execution_count": 20,
   "id": "2ebd2111-7697-4cd4-ad7c-df43bdac9675",
   "metadata": {},
   "outputs": [],
   "source": [
    "# adding  both table together\n",
    "all_data=pd.concat([train,test],axis=0)"
   ]
  },
  {
   "cell_type": "code",
   "execution_count": 21,
   "id": "bc217dd9-c5d7-4109-b2c0-9b56dfd4da46",
   "metadata": {},
   "outputs": [
    {
     "data": {
      "text/plain": [
       "(284807, 29)"
      ]
     },
     "execution_count": 21,
     "metadata": {},
     "output_type": "execute_result"
    }
   ],
   "source": [
    "all_data.shape"
   ]
  },
  {
   "cell_type": "code",
   "execution_count": 22,
   "id": "2257c334-51d9-4795-83f9-1c395615ba3e",
   "metadata": {},
   "outputs": [
    {
     "name": "stdout",
     "output_type": "stream",
     "text": [
      "******************Unique ID to the customer***************\n",
      "Geo 284807\n",
      "-------------------\n",
      "Instance 284807\n",
      "-------------------\n",
      "qset 284807\n",
      "-------------------\n",
      "all_data 284807\n",
      "-------------------\n",
      "******************Unique Group to the customer***************\n",
      "-------------------\n",
      "lmbda 1400\n",
      "-------------------\n",
      "test 915\n",
      "-------------------\n",
      "all_data 1400\n",
      "-------------------\n"
     ]
    }
   ],
   "source": [
    "print(\"******************Unique ID to the customer***************\")\n",
    "print(\"Geo\",geo['id'].nunique())\n",
    "print(\"-------------------\")\n",
    "print(\"Instance\",instance['id'].nunique())\n",
    "print(\"-------------------\")\n",
    "print(\"qset\",qset['id'].nunique())\n",
    "print(\"-------------------\")\n",
    "print(\"all_data\",all_data['id'].nunique())\n",
    "print(\"-------------------\")\n",
    "print(\"******************Unique Group to the customer***************\")\n",
    "print(\"-------------------\")\n",
    "print(\"lmbda\",lmbda['Group'].nunique())\n",
    "print(\"-------------------\")\n",
    "print(\"test\",test['Group'].nunique())\n",
    "print(\"-------------------\")\n",
    "print(\"all_data\",all_data['Group'].nunique())\n",
    "print(\"-------------------\")"
   ]
  },
  {
   "cell_type": "code",
   "execution_count": 23,
   "id": "f2f45889-1fc6-4fa5-be91-6f8995800506",
   "metadata": {},
   "outputs": [
    {
     "data": {
      "text/plain": [
       "(1424035, 2)"
      ]
     },
     "execution_count": 23,
     "metadata": {},
     "output_type": "execute_result"
    }
   ],
   "source": [
    "geo.shape"
   ]
  },
  {
   "cell_type": "code",
   "execution_count": 24,
   "id": "7653f1c2-070e-42be-8b31-86fd7c9d8ac8",
   "metadata": {},
   "outputs": [
    {
     "data": {
      "text/html": [
       "<div>\n",
       "<style scoped>\n",
       "    .dataframe tbody tr th:only-of-type {\n",
       "        vertical-align: middle;\n",
       "    }\n",
       "\n",
       "    .dataframe tbody tr th {\n",
       "        vertical-align: top;\n",
       "    }\n",
       "\n",
       "    .dataframe thead th {\n",
       "        text-align: right;\n",
       "    }\n",
       "</style>\n",
       "<table border=\"1\" class=\"dataframe\">\n",
       "  <thead>\n",
       "    <tr style=\"text-align: right;\">\n",
       "      <th></th>\n",
       "      <th>id</th>\n",
       "      <th>geo_score</th>\n",
       "    </tr>\n",
       "  </thead>\n",
       "  <tbody>\n",
       "    <tr>\n",
       "      <th>count</th>\n",
       "      <td>1.424035e+06</td>\n",
       "      <td>1.424035e+06</td>\n",
       "    </tr>\n",
       "    <tr>\n",
       "      <th>mean</th>\n",
       "      <td>1.424030e+05</td>\n",
       "      <td>9.034321e-03</td>\n",
       "    </tr>\n",
       "    <tr>\n",
       "      <th>std</th>\n",
       "      <td>8.221673e+04</td>\n",
       "      <td>7.628149e+00</td>\n",
       "    </tr>\n",
       "    <tr>\n",
       "      <th>min</th>\n",
       "      <td>0.000000e+00</td>\n",
       "      <td>-1.093900e+02</td>\n",
       "    </tr>\n",
       "    <tr>\n",
       "      <th>25%</th>\n",
       "      <td>7.120100e+04</td>\n",
       "      <td>-5.170000e+00</td>\n",
       "    </tr>\n",
       "    <tr>\n",
       "      <th>50%</th>\n",
       "      <td>1.424030e+05</td>\n",
       "      <td>1.800000e-01</td>\n",
       "    </tr>\n",
       "    <tr>\n",
       "      <th>75%</th>\n",
       "      <td>2.136050e+05</td>\n",
       "      <td>5.170000e+00</td>\n",
       "    </tr>\n",
       "    <tr>\n",
       "      <th>max</th>\n",
       "      <td>2.848060e+05</td>\n",
       "      <td>4.581000e+01</td>\n",
       "    </tr>\n",
       "  </tbody>\n",
       "</table>\n",
       "</div>"
      ],
      "text/plain": [
       "                 id     geo_score\n",
       "count  1.424035e+06  1.424035e+06\n",
       "mean   1.424030e+05  9.034321e-03\n",
       "std    8.221673e+04  7.628149e+00\n",
       "min    0.000000e+00 -1.093900e+02\n",
       "25%    7.120100e+04 -5.170000e+00\n",
       "50%    1.424030e+05  1.800000e-01\n",
       "75%    2.136050e+05  5.170000e+00\n",
       "max    2.848060e+05  4.581000e+01"
      ]
     },
     "execution_count": 24,
     "metadata": {},
     "output_type": "execute_result"
    }
   ],
   "source": [
    "geo.describe()"
   ]
  },
  {
   "cell_type": "code",
   "execution_count": 25,
   "id": "65f8f247-9cd5-4245-bb4b-e3af4081444e",
   "metadata": {},
   "outputs": [],
   "source": [
    "geo=geo.groupby('id').mean()\n",
    "instance= instance.groupby('id').mean()\n",
    "qset= qset.groupby('id').mean()"
   ]
  },
  {
   "cell_type": "code",
   "execution_count": 26,
   "id": "f38e0e05-2688-4f85-86f0-7911477a4e6d",
   "metadata": {},
   "outputs": [
    {
     "data": {
      "text/plain": [
       "(284807, 1)"
      ]
     },
     "execution_count": 26,
     "metadata": {},
     "output_type": "execute_result"
    }
   ],
   "source": [
    "geo.shape"
   ]
  },
  {
   "cell_type": "code",
   "execution_count": 27,
   "id": "2ba15aa1-fedc-4447-85be-6a06dfd7d319",
   "metadata": {},
   "outputs": [
    {
     "data": {
      "text/plain": [
       "(284807, 1)"
      ]
     },
     "execution_count": 27,
     "metadata": {},
     "output_type": "execute_result"
    }
   ],
   "source": [
    "instance.shape"
   ]
  },
  {
   "cell_type": "code",
   "execution_count": 28,
   "id": "8f2e1f75-fb27-4477-8774-1b36efe216ff",
   "metadata": {},
   "outputs": [
    {
     "data": {
      "text/html": [
       "<div>\n",
       "<style scoped>\n",
       "    .dataframe tbody tr th:only-of-type {\n",
       "        vertical-align: middle;\n",
       "    }\n",
       "\n",
       "    .dataframe tbody tr th {\n",
       "        vertical-align: top;\n",
       "    }\n",
       "\n",
       "    .dataframe thead th {\n",
       "        text-align: right;\n",
       "    }\n",
       "</style>\n",
       "<table border=\"1\" class=\"dataframe\">\n",
       "  <thead>\n",
       "    <tr style=\"text-align: right;\">\n",
       "      <th></th>\n",
       "      <th>instance_scores</th>\n",
       "    </tr>\n",
       "  </thead>\n",
       "  <tbody>\n",
       "    <tr>\n",
       "      <th>count</th>\n",
       "      <td>284807.000000</td>\n",
       "    </tr>\n",
       "    <tr>\n",
       "      <th>mean</th>\n",
       "      <td>-0.000003</td>\n",
       "    </tr>\n",
       "    <tr>\n",
       "      <th>std</th>\n",
       "      <td>1.088851</td>\n",
       "    </tr>\n",
       "    <tr>\n",
       "      <th>min</th>\n",
       "      <td>-24.590000</td>\n",
       "    </tr>\n",
       "    <tr>\n",
       "      <th>25%</th>\n",
       "      <td>-0.540000</td>\n",
       "    </tr>\n",
       "    <tr>\n",
       "      <th>50%</th>\n",
       "      <td>-0.090000</td>\n",
       "    </tr>\n",
       "    <tr>\n",
       "      <th>75%</th>\n",
       "      <td>0.450000</td>\n",
       "    </tr>\n",
       "    <tr>\n",
       "      <th>max</th>\n",
       "      <td>23.750000</td>\n",
       "    </tr>\n",
       "  </tbody>\n",
       "</table>\n",
       "</div>"
      ],
      "text/plain": [
       "       instance_scores\n",
       "count    284807.000000\n",
       "mean         -0.000003\n",
       "std           1.088851\n",
       "min         -24.590000\n",
       "25%          -0.540000\n",
       "50%          -0.090000\n",
       "75%           0.450000\n",
       "max          23.750000"
      ]
     },
     "execution_count": 28,
     "metadata": {},
     "output_type": "execute_result"
    }
   ],
   "source": [
    "instance.describe()"
   ]
  },
  {
   "cell_type": "code",
   "execution_count": 29,
   "id": "bf1006ad-d814-4575-b160-b81fe5d6a7ef",
   "metadata": {},
   "outputs": [],
   "source": [
    "all_data= pd.merge(all_data,lmbda, on='Group',how='left')"
   ]
  },
  {
   "cell_type": "code",
   "execution_count": 30,
   "id": "1cfa2bd2-d41f-4ae4-aa3f-bb55d9b46325",
   "metadata": {},
   "outputs": [
    {
     "data": {
      "text/html": [
       "<div>\n",
       "<style scoped>\n",
       "    .dataframe tbody tr th:only-of-type {\n",
       "        vertical-align: middle;\n",
       "    }\n",
       "\n",
       "    .dataframe tbody tr th {\n",
       "        vertical-align: top;\n",
       "    }\n",
       "\n",
       "    .dataframe thead th {\n",
       "        text-align: right;\n",
       "    }\n",
       "</style>\n",
       "<table border=\"1\" class=\"dataframe\">\n",
       "  <thead>\n",
       "    <tr style=\"text-align: right;\">\n",
       "      <th></th>\n",
       "      <th>id</th>\n",
       "      <th>Group</th>\n",
       "      <th>Per1</th>\n",
       "      <th>Per2</th>\n",
       "      <th>Per3</th>\n",
       "      <th>Per4</th>\n",
       "      <th>Per5</th>\n",
       "      <th>Per6</th>\n",
       "      <th>Per7</th>\n",
       "      <th>Per8</th>\n",
       "      <th>...</th>\n",
       "      <th>Cred1</th>\n",
       "      <th>Cred2</th>\n",
       "      <th>Cred3</th>\n",
       "      <th>Cred4</th>\n",
       "      <th>Cred5</th>\n",
       "      <th>Cred6</th>\n",
       "      <th>Normalised_FNT</th>\n",
       "      <th>Target</th>\n",
       "      <th>data</th>\n",
       "      <th>lambda_wt</th>\n",
       "    </tr>\n",
       "  </thead>\n",
       "  <tbody>\n",
       "    <tr>\n",
       "      <th>0</th>\n",
       "      <td>112751</td>\n",
       "      <td>Grp169</td>\n",
       "      <td>1.070000</td>\n",
       "      <td>0.580000</td>\n",
       "      <td>0.480000</td>\n",
       "      <td>0.766667</td>\n",
       "      <td>1.233333</td>\n",
       "      <td>1.993333</td>\n",
       "      <td>0.34</td>\n",
       "      <td>1.010000</td>\n",
       "      <td>...</td>\n",
       "      <td>0.606667</td>\n",
       "      <td>1.01</td>\n",
       "      <td>0.933333</td>\n",
       "      <td>0.603333</td>\n",
       "      <td>0.686667</td>\n",
       "      <td>0.673333</td>\n",
       "      <td>-245.75</td>\n",
       "      <td>0.0</td>\n",
       "      <td>train</td>\n",
       "      <td>-0.13</td>\n",
       "    </tr>\n",
       "    <tr>\n",
       "      <th>1</th>\n",
       "      <td>18495</td>\n",
       "      <td>Grp161</td>\n",
       "      <td>0.473333</td>\n",
       "      <td>1.206667</td>\n",
       "      <td>0.883333</td>\n",
       "      <td>1.430000</td>\n",
       "      <td>0.726667</td>\n",
       "      <td>0.626667</td>\n",
       "      <td>0.81</td>\n",
       "      <td>0.783333</td>\n",
       "      <td>...</td>\n",
       "      <td>0.680000</td>\n",
       "      <td>0.69</td>\n",
       "      <td>0.560000</td>\n",
       "      <td>0.670000</td>\n",
       "      <td>0.553333</td>\n",
       "      <td>0.653333</td>\n",
       "      <td>-248.00</td>\n",
       "      <td>0.0</td>\n",
       "      <td>train</td>\n",
       "      <td>0.66</td>\n",
       "    </tr>\n",
       "  </tbody>\n",
       "</table>\n",
       "<p>2 rows × 30 columns</p>\n",
       "</div>"
      ],
      "text/plain": [
       "       id   Group      Per1      Per2      Per3      Per4      Per5      Per6  \\\n",
       "0  112751  Grp169  1.070000  0.580000  0.480000  0.766667  1.233333  1.993333   \n",
       "1   18495  Grp161  0.473333  1.206667  0.883333  1.430000  0.726667  0.626667   \n",
       "\n",
       "   Per7      Per8  ...     Cred1  Cred2     Cred3     Cred4     Cred5  \\\n",
       "0  0.34  1.010000  ...  0.606667   1.01  0.933333  0.603333  0.686667   \n",
       "1  0.81  0.783333  ...  0.680000   0.69  0.560000  0.670000  0.553333   \n",
       "\n",
       "      Cred6  Normalised_FNT  Target   data  lambda_wt  \n",
       "0  0.673333         -245.75     0.0  train      -0.13  \n",
       "1  0.653333         -248.00     0.0  train       0.66  \n",
       "\n",
       "[2 rows x 30 columns]"
      ]
     },
     "execution_count": 30,
     "metadata": {},
     "output_type": "execute_result"
    }
   ],
   "source": [
    "all_data.head(2)"
   ]
  },
  {
   "cell_type": "code",
   "execution_count": 31,
   "id": "dfae11e6-ef9a-4068-a2b3-752c1f69f751",
   "metadata": {},
   "outputs": [],
   "source": [
    "all_data= pd.merge(all_data,geo, on='id',how='left')"
   ]
  },
  {
   "cell_type": "code",
   "execution_count": 32,
   "id": "163b8a61-7c9e-4787-864c-22b9bef05f3c",
   "metadata": {},
   "outputs": [],
   "source": [
    "all_data= pd.merge(all_data,instance, on='id',how='left')"
   ]
  },
  {
   "cell_type": "code",
   "execution_count": 33,
   "id": "439683f8-f35c-4aae-af93-77dbd5de96d7",
   "metadata": {},
   "outputs": [],
   "source": [
    "all_data= pd.merge(all_data,qset, on='id',how='left')"
   ]
  },
  {
   "cell_type": "code",
   "execution_count": 34,
   "id": "813e113b-4cae-41d4-bc82-ba62435ba3f7",
   "metadata": {},
   "outputs": [
    {
     "data": {
      "text/html": [
       "<div>\n",
       "<style scoped>\n",
       "    .dataframe tbody tr th:only-of-type {\n",
       "        vertical-align: middle;\n",
       "    }\n",
       "\n",
       "    .dataframe tbody tr th {\n",
       "        vertical-align: top;\n",
       "    }\n",
       "\n",
       "    .dataframe thead th {\n",
       "        text-align: right;\n",
       "    }\n",
       "</style>\n",
       "<table border=\"1\" class=\"dataframe\">\n",
       "  <thead>\n",
       "    <tr style=\"text-align: right;\">\n",
       "      <th></th>\n",
       "      <th>id</th>\n",
       "      <th>Group</th>\n",
       "      <th>Per1</th>\n",
       "      <th>Per2</th>\n",
       "      <th>Per3</th>\n",
       "      <th>Per4</th>\n",
       "      <th>Per5</th>\n",
       "      <th>Per6</th>\n",
       "      <th>Per7</th>\n",
       "      <th>Per8</th>\n",
       "      <th>...</th>\n",
       "      <th>Cred4</th>\n",
       "      <th>Cred5</th>\n",
       "      <th>Cred6</th>\n",
       "      <th>Normalised_FNT</th>\n",
       "      <th>Target</th>\n",
       "      <th>data</th>\n",
       "      <th>lambda_wt</th>\n",
       "      <th>geo_score</th>\n",
       "      <th>instance_scores</th>\n",
       "      <th>qsets_normalized_tat</th>\n",
       "    </tr>\n",
       "  </thead>\n",
       "  <tbody>\n",
       "    <tr>\n",
       "      <th>0</th>\n",
       "      <td>112751</td>\n",
       "      <td>Grp169</td>\n",
       "      <td>1.070000</td>\n",
       "      <td>0.580000</td>\n",
       "      <td>0.480000</td>\n",
       "      <td>0.766667</td>\n",
       "      <td>1.233333</td>\n",
       "      <td>1.993333</td>\n",
       "      <td>0.340000</td>\n",
       "      <td>1.010000</td>\n",
       "      <td>...</td>\n",
       "      <td>0.603333</td>\n",
       "      <td>0.686667</td>\n",
       "      <td>0.673333</td>\n",
       "      <td>-245.7500</td>\n",
       "      <td>0.0</td>\n",
       "      <td>train</td>\n",
       "      <td>-0.13</td>\n",
       "      <td>0.256</td>\n",
       "      <td>-0.06</td>\n",
       "      <td>-0.700</td>\n",
       "    </tr>\n",
       "    <tr>\n",
       "      <th>1</th>\n",
       "      <td>18495</td>\n",
       "      <td>Grp161</td>\n",
       "      <td>0.473333</td>\n",
       "      <td>1.206667</td>\n",
       "      <td>0.883333</td>\n",
       "      <td>1.430000</td>\n",
       "      <td>0.726667</td>\n",
       "      <td>0.626667</td>\n",
       "      <td>0.810000</td>\n",
       "      <td>0.783333</td>\n",
       "      <td>...</td>\n",
       "      <td>0.670000</td>\n",
       "      <td>0.553333</td>\n",
       "      <td>0.653333</td>\n",
       "      <td>-248.0000</td>\n",
       "      <td>0.0</td>\n",
       "      <td>train</td>\n",
       "      <td>0.66</td>\n",
       "      <td>-0.250</td>\n",
       "      <td>0.52</td>\n",
       "      <td>0.140</td>\n",
       "    </tr>\n",
       "    <tr>\n",
       "      <th>2</th>\n",
       "      <td>23915</td>\n",
       "      <td>Grp261</td>\n",
       "      <td>1.130000</td>\n",
       "      <td>0.143333</td>\n",
       "      <td>0.946667</td>\n",
       "      <td>0.123333</td>\n",
       "      <td>0.080000</td>\n",
       "      <td>0.836667</td>\n",
       "      <td>0.056667</td>\n",
       "      <td>0.756667</td>\n",
       "      <td>...</td>\n",
       "      <td>0.670000</td>\n",
       "      <td>0.686667</td>\n",
       "      <td>0.673333</td>\n",
       "      <td>-233.1250</td>\n",
       "      <td>0.0</td>\n",
       "      <td>train</td>\n",
       "      <td>-0.51</td>\n",
       "      <td>-0.950</td>\n",
       "      <td>1.56</td>\n",
       "      <td>-0.430</td>\n",
       "    </tr>\n",
       "    <tr>\n",
       "      <th>3</th>\n",
       "      <td>50806</td>\n",
       "      <td>Grp198</td>\n",
       "      <td>0.636667</td>\n",
       "      <td>1.090000</td>\n",
       "      <td>0.750000</td>\n",
       "      <td>0.940000</td>\n",
       "      <td>0.743333</td>\n",
       "      <td>0.346667</td>\n",
       "      <td>0.956667</td>\n",
       "      <td>0.633333</td>\n",
       "      <td>...</td>\n",
       "      <td>0.520000</td>\n",
       "      <td>0.846667</td>\n",
       "      <td>0.760000</td>\n",
       "      <td>-249.7775</td>\n",
       "      <td>0.0</td>\n",
       "      <td>train</td>\n",
       "      <td>0.72</td>\n",
       "      <td>0.490</td>\n",
       "      <td>0.70</td>\n",
       "      <td>-0.302</td>\n",
       "    </tr>\n",
       "    <tr>\n",
       "      <th>4</th>\n",
       "      <td>184244</td>\n",
       "      <td>Grp228</td>\n",
       "      <td>0.560000</td>\n",
       "      <td>1.013333</td>\n",
       "      <td>0.593333</td>\n",
       "      <td>0.416667</td>\n",
       "      <td>0.773333</td>\n",
       "      <td>0.460000</td>\n",
       "      <td>0.853333</td>\n",
       "      <td>0.796667</td>\n",
       "      <td>...</td>\n",
       "      <td>0.716667</td>\n",
       "      <td>0.706667</td>\n",
       "      <td>0.673333</td>\n",
       "      <td>-247.5775</td>\n",
       "      <td>0.0</td>\n",
       "      <td>train</td>\n",
       "      <td>0.60</td>\n",
       "      <td>0.850</td>\n",
       "      <td>-0.47</td>\n",
       "      <td>-0.630</td>\n",
       "    </tr>\n",
       "  </tbody>\n",
       "</table>\n",
       "<p>5 rows × 33 columns</p>\n",
       "</div>"
      ],
      "text/plain": [
       "       id   Group      Per1      Per2      Per3      Per4      Per5      Per6  \\\n",
       "0  112751  Grp169  1.070000  0.580000  0.480000  0.766667  1.233333  1.993333   \n",
       "1   18495  Grp161  0.473333  1.206667  0.883333  1.430000  0.726667  0.626667   \n",
       "2   23915  Grp261  1.130000  0.143333  0.946667  0.123333  0.080000  0.836667   \n",
       "3   50806  Grp198  0.636667  1.090000  0.750000  0.940000  0.743333  0.346667   \n",
       "4  184244  Grp228  0.560000  1.013333  0.593333  0.416667  0.773333  0.460000   \n",
       "\n",
       "       Per7      Per8  ...     Cred4     Cred5     Cred6  Normalised_FNT  \\\n",
       "0  0.340000  1.010000  ...  0.603333  0.686667  0.673333       -245.7500   \n",
       "1  0.810000  0.783333  ...  0.670000  0.553333  0.653333       -248.0000   \n",
       "2  0.056667  0.756667  ...  0.670000  0.686667  0.673333       -233.1250   \n",
       "3  0.956667  0.633333  ...  0.520000  0.846667  0.760000       -249.7775   \n",
       "4  0.853333  0.796667  ...  0.716667  0.706667  0.673333       -247.5775   \n",
       "\n",
       "   Target   data  lambda_wt  geo_score  instance_scores  qsets_normalized_tat  \n",
       "0     0.0  train      -0.13      0.256            -0.06                -0.700  \n",
       "1     0.0  train       0.66     -0.250             0.52                 0.140  \n",
       "2     0.0  train      -0.51     -0.950             1.56                -0.430  \n",
       "3     0.0  train       0.72      0.490             0.70                -0.302  \n",
       "4     0.0  train       0.60      0.850            -0.47                -0.630  \n",
       "\n",
       "[5 rows x 33 columns]"
      ]
     },
     "execution_count": 34,
     "metadata": {},
     "output_type": "execute_result"
    }
   ],
   "source": [
    "all_data.head()"
   ]
  },
  {
   "cell_type": "code",
   "execution_count": 35,
   "id": "628a8d3b-7a66-4c1d-ad93-edca5cd53c52",
   "metadata": {},
   "outputs": [
    {
     "data": {
      "text/plain": [
       "(284807, 33)"
      ]
     },
     "execution_count": 35,
     "metadata": {},
     "output_type": "execute_result"
    }
   ],
   "source": [
    "all_data.shape"
   ]
  },
  {
   "cell_type": "markdown",
   "id": "f4b0512b-f218-4f4f-b07c-882a2632b6b0",
   "metadata": {},
   "source": [
    "### EDA "
   ]
  },
  {
   "cell_type": "code",
   "execution_count": 36,
   "id": "51d5ddbc-34e5-44c2-bf61-73d19d7e8b44",
   "metadata": {},
   "outputs": [
    {
     "data": {
      "text/html": [
       "\n",
       "            <div>\n",
       "                <ins><a href=\"https://ydata.ai/register\">Upgrade to ydata-sdk</a></ins>\n",
       "                <p>\n",
       "                    Improve your data and profiling with ydata-sdk, featuring data quality scoring, redundancy detection, outlier identification, text validation, and synthetic data generation.\n",
       "                </p>\n",
       "            </div>\n",
       "            "
      ],
      "text/plain": [
       "<IPython.core.display.HTML object>"
      ]
     },
     "metadata": {},
     "output_type": "display_data"
    },
    {
     "name": "stderr",
     "output_type": "stream",
     "text": [
      "Summarize dataset:   0%|                                               | 0/38 [00:00<?, ?it/s, Describe variable: Dem5]\n",
      "Summarize dataset:  45%|█████████▊            | 17/38 [00:01<00:00, 63.09it/s, Describe variable: qsets_normalized_tat]\u001b[A\n",
      "  3%|██▌                                                                                | 1/33 [00:00<00:18,  1.70it/s]\u001b[A\n",
      "Summarize dataset:  79%|█████████████████▎    | 30/38 [00:01<00:00, 21.92it/s, Describe variable: qsets_normalized_tat]\u001b[A\n",
      "100%|██████████████████████████████████████████████████████████████████████████████████| 33/33 [00:01<00:00, 30.68it/s]\u001b[A\n",
      "Summarize dataset: 100%|██████████████████████████████████████████████████| 942/942 [02:08<00:00,  7.33it/s, Completed]\n",
      "Generate report structure: 100%|█████████████████████████████████████████████████████████| 1/1 [00:08<00:00,  8.57s/it]\n",
      "Render HTML: 100%|███████████████████████████████████████████████████████████████████████| 1/1 [00:14<00:00, 14.31s/it]\n",
      "Export report to file: 100%|█████████████████████████████████████████████████████████████| 1/1 [00:00<00:00,  6.87it/s]\n"
     ]
    }
   ],
   "source": [
    "from ydata_profiling import ProfileReport\n",
    "reports = ProfileReport(all_data)\n",
    "reports.to_file(output_file='output.html')"
   ]
  },
  {
   "cell_type": "code",
   "execution_count": 37,
   "id": "e9908a36-3009-476f-856a-3e240071d5e6",
   "metadata": {},
   "outputs": [],
   "source": [
    "train=all_data[all_data['data']=='train']\n",
    "test=all_data[all_data['data']=='test']"
   ]
  },
  {
   "cell_type": "code",
   "execution_count": 38,
   "id": "3c2b8cd6-b54e-4060-bacc-0d22ee744af2",
   "metadata": {},
   "outputs": [
    {
     "data": {
      "text/plain": [
       "(227845, 33)"
      ]
     },
     "execution_count": 38,
     "metadata": {},
     "output_type": "execute_result"
    }
   ],
   "source": [
    "train.shape"
   ]
  },
  {
   "cell_type": "code",
   "execution_count": 39,
   "id": "22ae47d8-8115-4c1d-a958-05809990cf58",
   "metadata": {},
   "outputs": [
    {
     "data": {
      "text/plain": [
       "(56962, 33)"
      ]
     },
     "execution_count": 39,
     "metadata": {},
     "output_type": "execute_result"
    }
   ],
   "source": [
    "test.shape"
   ]
  },
  {
   "cell_type": "code",
   "execution_count": 40,
   "id": "e311570d-ec97-4a57-85e3-6c9ad58fa1fa",
   "metadata": {},
   "outputs": [
    {
     "data": {
      "text/plain": [
       "Index(['id', 'Group', 'Per1', 'Per2', 'Per3', 'Per4', 'Per5', 'Per6', 'Per7',\n",
       "       'Per8', 'Per9', 'Dem1', 'Dem2', 'Dem3', 'Dem4', 'Dem5', 'Dem6', 'Dem7',\n",
       "       'Dem8', 'Dem9', 'Cred1', 'Cred2', 'Cred3', 'Cred4', 'Cred5', 'Cred6',\n",
       "       'Normalised_FNT', 'Target', 'data', 'lambda_wt', 'geo_score',\n",
       "       'instance_scores', 'qsets_normalized_tat'],\n",
       "      dtype='object')"
      ]
     },
     "execution_count": 40,
     "metadata": {},
     "output_type": "execute_result"
    }
   ],
   "source": [
    "train.columns\n"
   ]
  },
  {
   "cell_type": "markdown",
   "id": "a12d36a4-6f2c-4ef7-bc14-ad29007b79a8",
   "metadata": {},
   "source": [
    "### Dropping Unnecessary Columns"
   ]
  },
  {
   "cell_type": "code",
   "execution_count": 41,
   "id": "b0634c4e-6cb4-4bf3-9100-a0b87196361a",
   "metadata": {},
   "outputs": [],
   "source": [
    "train= train.drop(['id','data'],axis=1)  # Building a model\n",
    "test= test.drop(['id','data','Target'],axis=1) # prediction and final result"
   ]
  },
  {
   "cell_type": "markdown",
   "id": "cbf9bd2a-c190-49d3-9fdc-699a0da90967",
   "metadata": {},
   "source": [
    "#### Dropped irrelevant columns to keep only features required for model training and prediction."
   ]
  },
  {
   "cell_type": "code",
   "execution_count": 42,
   "id": "a688e8f1-0c72-44ac-bfe9-86a1e97d8131",
   "metadata": {},
   "outputs": [
    {
     "data": {
      "text/plain": [
       "Group                   0\n",
       "Per1                    0\n",
       "Per2                    0\n",
       "Per3                    0\n",
       "Per4                    0\n",
       "Per5                    0\n",
       "Per6                    0\n",
       "Per7                    0\n",
       "Per8                    0\n",
       "Per9                    0\n",
       "Dem1                    0\n",
       "Dem2                    0\n",
       "Dem3                    0\n",
       "Dem4                    0\n",
       "Dem5                    0\n",
       "Dem6                    0\n",
       "Dem7                    0\n",
       "Dem8                    0\n",
       "Dem9                    0\n",
       "Cred1                   0\n",
       "Cred2                   0\n",
       "Cred3                   0\n",
       "Cred4                   0\n",
       "Cred5                   0\n",
       "Cred6                   0\n",
       "Normalised_FNT          0\n",
       "lambda_wt               0\n",
       "geo_score               0\n",
       "instance_scores         0\n",
       "qsets_normalized_tat    0\n",
       "dtype: int64"
      ]
     },
     "execution_count": 42,
     "metadata": {},
     "output_type": "execute_result"
    }
   ],
   "source": [
    "test.isnull().sum()"
   ]
  },
  {
   "cell_type": "code",
   "execution_count": 43,
   "id": "50c10b23-1e6b-4553-9ab7-41d19d2e0c44",
   "metadata": {
    "scrolled": true
   },
   "outputs": [
    {
     "data": {
      "text/plain": [
       "Index(['Group', 'Per1', 'Per2', 'Per3', 'Per4', 'Per5', 'Per6', 'Per7', 'Per8',\n",
       "       'Per9', 'Dem1', 'Dem2', 'Dem3', 'Dem4', 'Dem5', 'Dem6', 'Dem7', 'Dem8',\n",
       "       'Dem9', 'Cred1', 'Cred2', 'Cred3', 'Cred4', 'Cred5', 'Cred6',\n",
       "       'Normalised_FNT', 'lambda_wt', 'geo_score', 'instance_scores',\n",
       "       'qsets_normalized_tat'],\n",
       "      dtype='object')"
      ]
     },
     "execution_count": 43,
     "metadata": {},
     "output_type": "execute_result"
    }
   ],
   "source": [
    "test.columns"
   ]
  },
  {
   "cell_type": "code",
   "execution_count": 44,
   "id": "a82faade-9599-4237-80c0-23944f7d339e",
   "metadata": {},
   "outputs": [],
   "source": [
    "unseen_test_data=test.copy()"
   ]
  },
  {
   "cell_type": "code",
   "execution_count": 45,
   "id": "f827be35-fca8-4f21-ae95-dace45cb7c1d",
   "metadata": {},
   "outputs": [
    {
     "data": {
      "text/plain": [
       "227845    277\n",
       "227846    180\n",
       "227847    231\n",
       "227848    485\n",
       "227849    504\n",
       "         ... \n",
       "284802     11\n",
       "284803    569\n",
       "284804    765\n",
       "284805    163\n",
       "284806    222\n",
       "Name: Group, Length: 56962, dtype: int16"
      ]
     },
     "execution_count": 45,
     "metadata": {},
     "output_type": "execute_result"
    }
   ],
   "source": [
    "unseen_test_data['Group']=unseen_test_data['Group'].astype('category')\n",
    "unseen_test_data['Group']=unseen_test_data['Group'].cat.codes\n",
    "unseen_test_data['Group']"
   ]
  },
  {
   "cell_type": "code",
   "execution_count": 46,
   "id": "cc49cd4d-621f-4528-aa95-257ed8e90bbb",
   "metadata": {},
   "outputs": [
    {
     "data": {
      "text/plain": [
       "Group                   0\n",
       "Per1                    0\n",
       "Per2                    0\n",
       "Per3                    0\n",
       "Per4                    0\n",
       "Per5                    0\n",
       "Per6                    0\n",
       "Per7                    0\n",
       "Per8                    0\n",
       "Per9                    0\n",
       "Dem1                    0\n",
       "Dem2                    0\n",
       "Dem3                    0\n",
       "Dem4                    0\n",
       "Dem5                    0\n",
       "Dem6                    0\n",
       "Dem7                    0\n",
       "Dem8                    0\n",
       "Dem9                    0\n",
       "Cred1                   0\n",
       "Cred2                   0\n",
       "Cred3                   0\n",
       "Cred4                   0\n",
       "Cred5                   0\n",
       "Cred6                   0\n",
       "Normalised_FNT          0\n",
       "Target                  0\n",
       "lambda_wt               0\n",
       "geo_score               0\n",
       "instance_scores         0\n",
       "qsets_normalized_tat    0\n",
       "dtype: int64"
      ]
     },
     "execution_count": 46,
     "metadata": {},
     "output_type": "execute_result"
    }
   ],
   "source": [
    "train.isnull().sum()"
   ]
  },
  {
   "cell_type": "code",
   "execution_count": 47,
   "id": "743c9504-9cb4-4eb7-bef8-80a540f2e6ec",
   "metadata": {},
   "outputs": [],
   "source": [
    "train['Group'] = train['Group'].astype('category')\n",
    "train['Group'] = train['Group'].cat.codes"
   ]
  },
  {
   "cell_type": "code",
   "execution_count": 48,
   "id": "762a4013-aa23-4e3d-b2cf-0d0db1a578e9",
   "metadata": {},
   "outputs": [],
   "source": [
    "# slpit the data into ind and dep variable\n",
    "x=train.drop(['Target'],axis=1)\n",
    "y=train['Target']"
   ]
  },
  {
   "cell_type": "code",
   "execution_count": 49,
   "id": "c00db0b0-87fa-41bc-8d9c-537ce4360041",
   "metadata": {},
   "outputs": [
    {
     "data": {
      "text/plain": [
       "Target\n",
       "0.0    0.998271\n",
       "1.0    0.001729\n",
       "Name: proportion, dtype: float64"
      ]
     },
     "execution_count": 49,
     "metadata": {},
     "output_type": "execute_result"
    }
   ],
   "source": [
    "y.value_counts(normalize=True)"
   ]
  },
  {
   "cell_type": "markdown",
   "id": "22b15a45-403a-4f37-80b5-e2fa0035ee6e",
   "metadata": {},
   "source": [
    "### Splitting Data into Train and Test Sets"
   ]
  },
  {
   "cell_type": "code",
   "execution_count": 50,
   "id": "b6514774-422b-4c09-ac2a-698e0fbaa518",
   "metadata": {},
   "outputs": [],
   "source": [
    "# split the data into training and testing\n",
    "x_train,x_test,y_train,y_test=train_test_split(x,y, test_size=0.2,random_state=101,stratify=y)"
   ]
  },
  {
   "cell_type": "code",
   "execution_count": 51,
   "id": "0fe6e44d-4796-41b3-becc-452850c555e9",
   "metadata": {},
   "outputs": [
    {
     "data": {
      "text/plain": [
       "Target\n",
       "0.0    181961\n",
       "1.0       315\n",
       "Name: count, dtype: int64"
      ]
     },
     "execution_count": 51,
     "metadata": {},
     "output_type": "execute_result"
    }
   ],
   "source": [
    "y_train.value_counts()"
   ]
  },
  {
   "cell_type": "code",
   "execution_count": 52,
   "id": "0831ae1e-5d51-4614-8ce5-68a6a9b6671f",
   "metadata": {},
   "outputs": [
    {
     "data": {
      "text/plain": [
       "Target\n",
       "0.0    45490\n",
       "1.0       79\n",
       "Name: count, dtype: int64"
      ]
     },
     "execution_count": 52,
     "metadata": {},
     "output_type": "execute_result"
    }
   ],
   "source": [
    "y_test.value_counts()"
   ]
  },
  {
   "cell_type": "markdown",
   "id": "c64eaf43-6519-4fe6-a7a3-ff8e79a84530",
   "metadata": {},
   "source": [
    "### Model Building — Random Forest"
   ]
  },
  {
   "cell_type": "code",
   "execution_count": 53,
   "id": "3b69beef-c0b3-478e-a491-42656ef49b9a",
   "metadata": {},
   "outputs": [
    {
     "data": {
      "text/html": [
       "<style>#sk-container-id-1 {\n",
       "  /* Definition of color scheme common for light and dark mode */\n",
       "  --sklearn-color-text: #000;\n",
       "  --sklearn-color-text-muted: #666;\n",
       "  --sklearn-color-line: gray;\n",
       "  /* Definition of color scheme for unfitted estimators */\n",
       "  --sklearn-color-unfitted-level-0: #fff5e6;\n",
       "  --sklearn-color-unfitted-level-1: #f6e4d2;\n",
       "  --sklearn-color-unfitted-level-2: #ffe0b3;\n",
       "  --sklearn-color-unfitted-level-3: chocolate;\n",
       "  /* Definition of color scheme for fitted estimators */\n",
       "  --sklearn-color-fitted-level-0: #f0f8ff;\n",
       "  --sklearn-color-fitted-level-1: #d4ebff;\n",
       "  --sklearn-color-fitted-level-2: #b3dbfd;\n",
       "  --sklearn-color-fitted-level-3: cornflowerblue;\n",
       "\n",
       "  /* Specific color for light theme */\n",
       "  --sklearn-color-text-on-default-background: var(--sg-text-color, var(--theme-code-foreground, var(--jp-content-font-color1, black)));\n",
       "  --sklearn-color-background: var(--sg-background-color, var(--theme-background, var(--jp-layout-color0, white)));\n",
       "  --sklearn-color-border-box: var(--sg-text-color, var(--theme-code-foreground, var(--jp-content-font-color1, black)));\n",
       "  --sklearn-color-icon: #696969;\n",
       "\n",
       "  @media (prefers-color-scheme: dark) {\n",
       "    /* Redefinition of color scheme for dark theme */\n",
       "    --sklearn-color-text-on-default-background: var(--sg-text-color, var(--theme-code-foreground, var(--jp-content-font-color1, white)));\n",
       "    --sklearn-color-background: var(--sg-background-color, var(--theme-background, var(--jp-layout-color0, #111)));\n",
       "    --sklearn-color-border-box: var(--sg-text-color, var(--theme-code-foreground, var(--jp-content-font-color1, white)));\n",
       "    --sklearn-color-icon: #878787;\n",
       "  }\n",
       "}\n",
       "\n",
       "#sk-container-id-1 {\n",
       "  color: var(--sklearn-color-text);\n",
       "}\n",
       "\n",
       "#sk-container-id-1 pre {\n",
       "  padding: 0;\n",
       "}\n",
       "\n",
       "#sk-container-id-1 input.sk-hidden--visually {\n",
       "  border: 0;\n",
       "  clip: rect(1px 1px 1px 1px);\n",
       "  clip: rect(1px, 1px, 1px, 1px);\n",
       "  height: 1px;\n",
       "  margin: -1px;\n",
       "  overflow: hidden;\n",
       "  padding: 0;\n",
       "  position: absolute;\n",
       "  width: 1px;\n",
       "}\n",
       "\n",
       "#sk-container-id-1 div.sk-dashed-wrapped {\n",
       "  border: 1px dashed var(--sklearn-color-line);\n",
       "  margin: 0 0.4em 0.5em 0.4em;\n",
       "  box-sizing: border-box;\n",
       "  padding-bottom: 0.4em;\n",
       "  background-color: var(--sklearn-color-background);\n",
       "}\n",
       "\n",
       "#sk-container-id-1 div.sk-container {\n",
       "  /* jupyter's `normalize.less` sets `[hidden] { display: none; }`\n",
       "     but bootstrap.min.css set `[hidden] { display: none !important; }`\n",
       "     so we also need the `!important` here to be able to override the\n",
       "     default hidden behavior on the sphinx rendered scikit-learn.org.\n",
       "     See: https://github.com/scikit-learn/scikit-learn/issues/21755 */\n",
       "  display: inline-block !important;\n",
       "  position: relative;\n",
       "}\n",
       "\n",
       "#sk-container-id-1 div.sk-text-repr-fallback {\n",
       "  display: none;\n",
       "}\n",
       "\n",
       "div.sk-parallel-item,\n",
       "div.sk-serial,\n",
       "div.sk-item {\n",
       "  /* draw centered vertical line to link estimators */\n",
       "  background-image: linear-gradient(var(--sklearn-color-text-on-default-background), var(--sklearn-color-text-on-default-background));\n",
       "  background-size: 2px 100%;\n",
       "  background-repeat: no-repeat;\n",
       "  background-position: center center;\n",
       "}\n",
       "\n",
       "/* Parallel-specific style estimator block */\n",
       "\n",
       "#sk-container-id-1 div.sk-parallel-item::after {\n",
       "  content: \"\";\n",
       "  width: 100%;\n",
       "  border-bottom: 2px solid var(--sklearn-color-text-on-default-background);\n",
       "  flex-grow: 1;\n",
       "}\n",
       "\n",
       "#sk-container-id-1 div.sk-parallel {\n",
       "  display: flex;\n",
       "  align-items: stretch;\n",
       "  justify-content: center;\n",
       "  background-color: var(--sklearn-color-background);\n",
       "  position: relative;\n",
       "}\n",
       "\n",
       "#sk-container-id-1 div.sk-parallel-item {\n",
       "  display: flex;\n",
       "  flex-direction: column;\n",
       "}\n",
       "\n",
       "#sk-container-id-1 div.sk-parallel-item:first-child::after {\n",
       "  align-self: flex-end;\n",
       "  width: 50%;\n",
       "}\n",
       "\n",
       "#sk-container-id-1 div.sk-parallel-item:last-child::after {\n",
       "  align-self: flex-start;\n",
       "  width: 50%;\n",
       "}\n",
       "\n",
       "#sk-container-id-1 div.sk-parallel-item:only-child::after {\n",
       "  width: 0;\n",
       "}\n",
       "\n",
       "/* Serial-specific style estimator block */\n",
       "\n",
       "#sk-container-id-1 div.sk-serial {\n",
       "  display: flex;\n",
       "  flex-direction: column;\n",
       "  align-items: center;\n",
       "  background-color: var(--sklearn-color-background);\n",
       "  padding-right: 1em;\n",
       "  padding-left: 1em;\n",
       "}\n",
       "\n",
       "\n",
       "/* Toggleable style: style used for estimator/Pipeline/ColumnTransformer box that is\n",
       "clickable and can be expanded/collapsed.\n",
       "- Pipeline and ColumnTransformer use this feature and define the default style\n",
       "- Estimators will overwrite some part of the style using the `sk-estimator` class\n",
       "*/\n",
       "\n",
       "/* Pipeline and ColumnTransformer style (default) */\n",
       "\n",
       "#sk-container-id-1 div.sk-toggleable {\n",
       "  /* Default theme specific background. It is overwritten whether we have a\n",
       "  specific estimator or a Pipeline/ColumnTransformer */\n",
       "  background-color: var(--sklearn-color-background);\n",
       "}\n",
       "\n",
       "/* Toggleable label */\n",
       "#sk-container-id-1 label.sk-toggleable__label {\n",
       "  cursor: pointer;\n",
       "  display: flex;\n",
       "  width: 100%;\n",
       "  margin-bottom: 0;\n",
       "  padding: 0.5em;\n",
       "  box-sizing: border-box;\n",
       "  text-align: center;\n",
       "  align-items: start;\n",
       "  justify-content: space-between;\n",
       "  gap: 0.5em;\n",
       "}\n",
       "\n",
       "#sk-container-id-1 label.sk-toggleable__label .caption {\n",
       "  font-size: 0.6rem;\n",
       "  font-weight: lighter;\n",
       "  color: var(--sklearn-color-text-muted);\n",
       "}\n",
       "\n",
       "#sk-container-id-1 label.sk-toggleable__label-arrow:before {\n",
       "  /* Arrow on the left of the label */\n",
       "  content: \"▸\";\n",
       "  float: left;\n",
       "  margin-right: 0.25em;\n",
       "  color: var(--sklearn-color-icon);\n",
       "}\n",
       "\n",
       "#sk-container-id-1 label.sk-toggleable__label-arrow:hover:before {\n",
       "  color: var(--sklearn-color-text);\n",
       "}\n",
       "\n",
       "/* Toggleable content - dropdown */\n",
       "\n",
       "#sk-container-id-1 div.sk-toggleable__content {\n",
       "  max-height: 0;\n",
       "  max-width: 0;\n",
       "  overflow: hidden;\n",
       "  text-align: left;\n",
       "  /* unfitted */\n",
       "  background-color: var(--sklearn-color-unfitted-level-0);\n",
       "}\n",
       "\n",
       "#sk-container-id-1 div.sk-toggleable__content.fitted {\n",
       "  /* fitted */\n",
       "  background-color: var(--sklearn-color-fitted-level-0);\n",
       "}\n",
       "\n",
       "#sk-container-id-1 div.sk-toggleable__content pre {\n",
       "  margin: 0.2em;\n",
       "  border-radius: 0.25em;\n",
       "  color: var(--sklearn-color-text);\n",
       "  /* unfitted */\n",
       "  background-color: var(--sklearn-color-unfitted-level-0);\n",
       "}\n",
       "\n",
       "#sk-container-id-1 div.sk-toggleable__content.fitted pre {\n",
       "  /* unfitted */\n",
       "  background-color: var(--sklearn-color-fitted-level-0);\n",
       "}\n",
       "\n",
       "#sk-container-id-1 input.sk-toggleable__control:checked~div.sk-toggleable__content {\n",
       "  /* Expand drop-down */\n",
       "  max-height: 200px;\n",
       "  max-width: 100%;\n",
       "  overflow: auto;\n",
       "}\n",
       "\n",
       "#sk-container-id-1 input.sk-toggleable__control:checked~label.sk-toggleable__label-arrow:before {\n",
       "  content: \"▾\";\n",
       "}\n",
       "\n",
       "/* Pipeline/ColumnTransformer-specific style */\n",
       "\n",
       "#sk-container-id-1 div.sk-label input.sk-toggleable__control:checked~label.sk-toggleable__label {\n",
       "  color: var(--sklearn-color-text);\n",
       "  background-color: var(--sklearn-color-unfitted-level-2);\n",
       "}\n",
       "\n",
       "#sk-container-id-1 div.sk-label.fitted input.sk-toggleable__control:checked~label.sk-toggleable__label {\n",
       "  background-color: var(--sklearn-color-fitted-level-2);\n",
       "}\n",
       "\n",
       "/* Estimator-specific style */\n",
       "\n",
       "/* Colorize estimator box */\n",
       "#sk-container-id-1 div.sk-estimator input.sk-toggleable__control:checked~label.sk-toggleable__label {\n",
       "  /* unfitted */\n",
       "  background-color: var(--sklearn-color-unfitted-level-2);\n",
       "}\n",
       "\n",
       "#sk-container-id-1 div.sk-estimator.fitted input.sk-toggleable__control:checked~label.sk-toggleable__label {\n",
       "  /* fitted */\n",
       "  background-color: var(--sklearn-color-fitted-level-2);\n",
       "}\n",
       "\n",
       "#sk-container-id-1 div.sk-label label.sk-toggleable__label,\n",
       "#sk-container-id-1 div.sk-label label {\n",
       "  /* The background is the default theme color */\n",
       "  color: var(--sklearn-color-text-on-default-background);\n",
       "}\n",
       "\n",
       "/* On hover, darken the color of the background */\n",
       "#sk-container-id-1 div.sk-label:hover label.sk-toggleable__label {\n",
       "  color: var(--sklearn-color-text);\n",
       "  background-color: var(--sklearn-color-unfitted-level-2);\n",
       "}\n",
       "\n",
       "/* Label box, darken color on hover, fitted */\n",
       "#sk-container-id-1 div.sk-label.fitted:hover label.sk-toggleable__label.fitted {\n",
       "  color: var(--sklearn-color-text);\n",
       "  background-color: var(--sklearn-color-fitted-level-2);\n",
       "}\n",
       "\n",
       "/* Estimator label */\n",
       "\n",
       "#sk-container-id-1 div.sk-label label {\n",
       "  font-family: monospace;\n",
       "  font-weight: bold;\n",
       "  display: inline-block;\n",
       "  line-height: 1.2em;\n",
       "}\n",
       "\n",
       "#sk-container-id-1 div.sk-label-container {\n",
       "  text-align: center;\n",
       "}\n",
       "\n",
       "/* Estimator-specific */\n",
       "#sk-container-id-1 div.sk-estimator {\n",
       "  font-family: monospace;\n",
       "  border: 1px dotted var(--sklearn-color-border-box);\n",
       "  border-radius: 0.25em;\n",
       "  box-sizing: border-box;\n",
       "  margin-bottom: 0.5em;\n",
       "  /* unfitted */\n",
       "  background-color: var(--sklearn-color-unfitted-level-0);\n",
       "}\n",
       "\n",
       "#sk-container-id-1 div.sk-estimator.fitted {\n",
       "  /* fitted */\n",
       "  background-color: var(--sklearn-color-fitted-level-0);\n",
       "}\n",
       "\n",
       "/* on hover */\n",
       "#sk-container-id-1 div.sk-estimator:hover {\n",
       "  /* unfitted */\n",
       "  background-color: var(--sklearn-color-unfitted-level-2);\n",
       "}\n",
       "\n",
       "#sk-container-id-1 div.sk-estimator.fitted:hover {\n",
       "  /* fitted */\n",
       "  background-color: var(--sklearn-color-fitted-level-2);\n",
       "}\n",
       "\n",
       "/* Specification for estimator info (e.g. \"i\" and \"?\") */\n",
       "\n",
       "/* Common style for \"i\" and \"?\" */\n",
       "\n",
       ".sk-estimator-doc-link,\n",
       "a:link.sk-estimator-doc-link,\n",
       "a:visited.sk-estimator-doc-link {\n",
       "  float: right;\n",
       "  font-size: smaller;\n",
       "  line-height: 1em;\n",
       "  font-family: monospace;\n",
       "  background-color: var(--sklearn-color-background);\n",
       "  border-radius: 1em;\n",
       "  height: 1em;\n",
       "  width: 1em;\n",
       "  text-decoration: none !important;\n",
       "  margin-left: 0.5em;\n",
       "  text-align: center;\n",
       "  /* unfitted */\n",
       "  border: var(--sklearn-color-unfitted-level-1) 1pt solid;\n",
       "  color: var(--sklearn-color-unfitted-level-1);\n",
       "}\n",
       "\n",
       ".sk-estimator-doc-link.fitted,\n",
       "a:link.sk-estimator-doc-link.fitted,\n",
       "a:visited.sk-estimator-doc-link.fitted {\n",
       "  /* fitted */\n",
       "  border: var(--sklearn-color-fitted-level-1) 1pt solid;\n",
       "  color: var(--sklearn-color-fitted-level-1);\n",
       "}\n",
       "\n",
       "/* On hover */\n",
       "div.sk-estimator:hover .sk-estimator-doc-link:hover,\n",
       ".sk-estimator-doc-link:hover,\n",
       "div.sk-label-container:hover .sk-estimator-doc-link:hover,\n",
       ".sk-estimator-doc-link:hover {\n",
       "  /* unfitted */\n",
       "  background-color: var(--sklearn-color-unfitted-level-3);\n",
       "  color: var(--sklearn-color-background);\n",
       "  text-decoration: none;\n",
       "}\n",
       "\n",
       "div.sk-estimator.fitted:hover .sk-estimator-doc-link.fitted:hover,\n",
       ".sk-estimator-doc-link.fitted:hover,\n",
       "div.sk-label-container:hover .sk-estimator-doc-link.fitted:hover,\n",
       ".sk-estimator-doc-link.fitted:hover {\n",
       "  /* fitted */\n",
       "  background-color: var(--sklearn-color-fitted-level-3);\n",
       "  color: var(--sklearn-color-background);\n",
       "  text-decoration: none;\n",
       "}\n",
       "\n",
       "/* Span, style for the box shown on hovering the info icon */\n",
       ".sk-estimator-doc-link span {\n",
       "  display: none;\n",
       "  z-index: 9999;\n",
       "  position: relative;\n",
       "  font-weight: normal;\n",
       "  right: .2ex;\n",
       "  padding: .5ex;\n",
       "  margin: .5ex;\n",
       "  width: min-content;\n",
       "  min-width: 20ex;\n",
       "  max-width: 50ex;\n",
       "  color: var(--sklearn-color-text);\n",
       "  box-shadow: 2pt 2pt 4pt #999;\n",
       "  /* unfitted */\n",
       "  background: var(--sklearn-color-unfitted-level-0);\n",
       "  border: .5pt solid var(--sklearn-color-unfitted-level-3);\n",
       "}\n",
       "\n",
       ".sk-estimator-doc-link.fitted span {\n",
       "  /* fitted */\n",
       "  background: var(--sklearn-color-fitted-level-0);\n",
       "  border: var(--sklearn-color-fitted-level-3);\n",
       "}\n",
       "\n",
       ".sk-estimator-doc-link:hover span {\n",
       "  display: block;\n",
       "}\n",
       "\n",
       "/* \"?\"-specific style due to the `<a>` HTML tag */\n",
       "\n",
       "#sk-container-id-1 a.estimator_doc_link {\n",
       "  float: right;\n",
       "  font-size: 1rem;\n",
       "  line-height: 1em;\n",
       "  font-family: monospace;\n",
       "  background-color: var(--sklearn-color-background);\n",
       "  border-radius: 1rem;\n",
       "  height: 1rem;\n",
       "  width: 1rem;\n",
       "  text-decoration: none;\n",
       "  /* unfitted */\n",
       "  color: var(--sklearn-color-unfitted-level-1);\n",
       "  border: var(--sklearn-color-unfitted-level-1) 1pt solid;\n",
       "}\n",
       "\n",
       "#sk-container-id-1 a.estimator_doc_link.fitted {\n",
       "  /* fitted */\n",
       "  border: var(--sklearn-color-fitted-level-1) 1pt solid;\n",
       "  color: var(--sklearn-color-fitted-level-1);\n",
       "}\n",
       "\n",
       "/* On hover */\n",
       "#sk-container-id-1 a.estimator_doc_link:hover {\n",
       "  /* unfitted */\n",
       "  background-color: var(--sklearn-color-unfitted-level-3);\n",
       "  color: var(--sklearn-color-background);\n",
       "  text-decoration: none;\n",
       "}\n",
       "\n",
       "#sk-container-id-1 a.estimator_doc_link.fitted:hover {\n",
       "  /* fitted */\n",
       "  background-color: var(--sklearn-color-fitted-level-3);\n",
       "}\n",
       "</style><div id=\"sk-container-id-1\" class=\"sk-top-container\"><div class=\"sk-text-repr-fallback\"><pre>RandomForestClassifier()</pre><b>In a Jupyter environment, please rerun this cell to show the HTML representation or trust the notebook. <br />On GitHub, the HTML representation is unable to render, please try loading this page with nbviewer.org.</b></div><div class=\"sk-container\" hidden><div class=\"sk-item\"><div class=\"sk-estimator fitted sk-toggleable\"><input class=\"sk-toggleable__control sk-hidden--visually\" id=\"sk-estimator-id-1\" type=\"checkbox\" checked><label for=\"sk-estimator-id-1\" class=\"sk-toggleable__label fitted sk-toggleable__label-arrow\"><div><div>RandomForestClassifier</div></div><div><a class=\"sk-estimator-doc-link fitted\" rel=\"noreferrer\" target=\"_blank\" href=\"https://scikit-learn.org/1.6/modules/generated/sklearn.ensemble.RandomForestClassifier.html\">?<span>Documentation for RandomForestClassifier</span></a><span class=\"sk-estimator-doc-link fitted\">i<span>Fitted</span></span></div></label><div class=\"sk-toggleable__content fitted\"><pre>RandomForestClassifier()</pre></div> </div></div></div></div>"
      ],
      "text/plain": [
       "RandomForestClassifier()"
      ]
     },
     "execution_count": 53,
     "metadata": {},
     "output_type": "execute_result"
    }
   ],
   "source": [
    "# Building model\n",
    "from sklearn.ensemble import RandomForestClassifier\n",
    "rfmodel = RandomForestClassifier()\n",
    "rfmodel.fit(x_train, y_train)\n"
   ]
  },
  {
   "cell_type": "code",
   "execution_count": 54,
   "id": "2390ce6e-7986-41fe-b3b0-6805411e3a31",
   "metadata": {},
   "outputs": [],
   "source": [
    "y_pred_train = rfmodel.predict(x_train)\n",
    "y_pred_test = rfmodel.predict(x_test)"
   ]
  },
  {
   "cell_type": "code",
   "execution_count": 55,
   "id": "93149d71-810f-416f-8d1d-87244cf56a5b",
   "metadata": {},
   "outputs": [],
   "source": [
    "from sklearn.metrics import classification_report,accuracy_score"
   ]
  },
  {
   "cell_type": "code",
   "execution_count": 56,
   "id": "620bfa1f-b18c-4b89-bee4-65babf84013d",
   "metadata": {},
   "outputs": [
    {
     "name": "stdout",
     "output_type": "stream",
     "text": [
      "              precision    recall  f1-score   support\n",
      "\n",
      "         0.0       1.00      1.00      1.00    181961\n",
      "         1.0       1.00      1.00      1.00       315\n",
      "\n",
      "    accuracy                           1.00    182276\n",
      "   macro avg       1.00      1.00      1.00    182276\n",
      "weighted avg       1.00      1.00      1.00    182276\n",
      "\n",
      "*****************\n",
      "              precision    recall  f1-score   support\n",
      "\n",
      "         0.0       1.00      1.00      1.00     45490\n",
      "         1.0       0.95      0.72      0.82        79\n",
      "\n",
      "    accuracy                           1.00     45569\n",
      "   macro avg       0.97      0.86      0.91     45569\n",
      "weighted avg       1.00      1.00      1.00     45569\n",
      "\n"
     ]
    }
   ],
   "source": [
    "print(classification_report(y_train,y_pred_train))\n",
    "print(\"*****************\")\n",
    "print(classification_report(y_test,y_pred_test))"
   ]
  },
  {
   "cell_type": "code",
   "execution_count": 57,
   "id": "54eea332-c335-4416-a7ab-8250017784d4",
   "metadata": {},
   "outputs": [
    {
     "name": "stdout",
     "output_type": "stream",
     "text": [
      "1.0\n",
      "*******************\n",
      "0.9994513814215804\n"
     ]
    }
   ],
   "source": [
    "print(accuracy_score(y_train,y_pred_train))\n",
    "print(\"*******************\")\n",
    "print(accuracy_score(y_test,y_pred_test))"
   ]
  },
  {
   "cell_type": "markdown",
   "id": "2c090ac1-53bc-45c0-a24d-3e7428d34de9",
   "metadata": {},
   "source": [
    "### Cross-Validation Evaluation"
   ]
  },
  {
   "cell_type": "code",
   "execution_count": 58,
   "id": "8d080348-01f8-4f76-bca1-692a2a5acf3f",
   "metadata": {},
   "outputs": [
    {
     "name": "stdout",
     "output_type": "stream",
     "text": [
      "🔁 Cross-Validation Results (on Training Data):\n",
      "Average Accuracy : 0.9995\n",
      "Average Precision: 0.9390\n",
      "Average Recall   : 0.7810\n",
      "Average F1 Score : 0.8520\n"
     ]
    }
   ],
   "source": [
    "from sklearn.model_selection import cross_validate\n",
    "from sklearn.metrics import make_scorer, accuracy_score, precision_score, recall_score, f1_score\n",
    "\n",
    "# Perform 5-fold cross-validation on the training data\n",
    "cv_results = cross_validate(\n",
    "    rfmodel,\n",
    "    x_train,\n",
    "    y_train,\n",
    "    cv=5,\n",
    "    scoring=['accuracy', 'precision', 'recall', 'f1'],\n",
    "    return_train_score=False\n",
    ")\n",
    "\n",
    "# Print average scores\n",
    "print(\"🔁 Cross-Validation Results (on Training Data):\")\n",
    "print(f\"Average Accuracy : {cv_results['test_accuracy'].mean():.4f}\")\n",
    "print(f\"Average Precision: {cv_results['test_precision'].mean():.4f}\")\n",
    "print(f\"Average Recall   : {cv_results['test_recall'].mean():.4f}\")\n",
    "print(f\"Average F1 Score : {cv_results['test_f1'].mean():.4f}\")"
   ]
  },
  {
   "cell_type": "markdown",
   "id": "312abd5d-6930-4708-a5e4-0e3da3f75154",
   "metadata": {},
   "source": [
    "### ROC-AUC Curve Evaluation"
   ]
  },
  {
   "cell_type": "code",
   "execution_count": 65,
   "id": "684ead4b-5bc8-4b63-a197-778125a32d79",
   "metadata": {},
   "outputs": [
    {
     "data": {
      "image/png": "[encoded data removed]",
      "text/plain": [
       "<Figure size 640x480 with 1 Axes>"
      ]
     },
     "metadata": {},
     "output_type": "display_data"
    }
   ],
   "source": [
    "from sklearn.metrics import roc_curve, roc_auc_score\n",
    "import matplotlib.pyplot as plt\n",
    "\n",
    "y_proba_test = rfmodel.predict_proba(x_test)[:, 1]  # Probabilities for class 1\n",
    "\n",
    "fpr, tpr, thresholds = roc_curve(y_test, y_proba_test)\n",
    "auc = roc_auc_score(y_test, y_proba_test)\n",
    "\n",
    "plt.figure()\n",
    "plt.plot(fpr, tpr, label=f\"ROC Curve (AUC = {auc:.2f})\")\n",
    "plt.plot([0, 1], [0, 1], 'k--')  # Diagonal line\n",
    "plt.xlabel('False Positive Rate')\n",
    "plt.ylabel('True Positive Rate')\n",
    "plt.title('ROC Curve')\n",
    "plt.legend()\n",
    "plt.show()"
   ]
  },
  {
   "cell_type": "markdown",
   "id": "c88704ec-efd2-41da-bc32-c18977570a95",
   "metadata": {},
   "source": [
    "##### Generating Final Predictions on Unseen Data"
   ]
  },
  {
   "cell_type": "code",
   "execution_count": 59,
   "id": "9a6b91e7-03cb-4392-b33f-f206c7d48daf",
   "metadata": {},
   "outputs": [],
   "source": [
    "final_output= rfmodel.predict(unseen_test_data)"
   ]
  },
  {
   "cell_type": "code",
   "execution_count": 60,
   "id": "ca18f3be-d41d-42b1-b1e2-5dd15d8baecf",
   "metadata": {},
   "outputs": [
    {
     "data": {
      "text/plain": [
       "array([0., 0., 0., ..., 0., 0., 0.])"
      ]
     },
     "execution_count": 60,
     "metadata": {},
     "output_type": "execute_result"
    }
   ],
   "source": [
    "final_output"
   ]
  },
  {
   "cell_type": "code",
   "execution_count": 61,
   "id": "ba6ba05d-5f5e-4855-be79-77a55b08aca6",
   "metadata": {
    "scrolled": true
   },
   "outputs": [
    {
     "data": {
      "text/plain": [
       "RangeIndex(start=0, stop=1, step=1)"
      ]
     },
     "execution_count": 61,
     "metadata": {},
     "output_type": "execute_result"
    }
   ],
   "source": [
    "final_output = pd.DataFrame(final_output)\n",
    "final_output.columns"
   ]
  },
  {
   "cell_type": "code",
   "execution_count": 62,
   "id": "555c1d10-76e8-46c9-b2f7-27bcff73cefe",
   "metadata": {},
   "outputs": [],
   "source": [
    "final_output.to_csv(\"Final_Target_Value.csv\")"
   ]
  },
  {
   "cell_type": "code",
   "execution_count": 63,
   "id": "fbd14bfd-211a-4cd0-bf4f-e4863fb8a95f",
   "metadata": {},
   "outputs": [
    {
     "data": {
      "text/plain": [
       "0  \n",
       "0.0    56882\n",
       "1.0       80\n",
       "Name: count, dtype: int64"
      ]
     },
     "execution_count": 63,
     "metadata": {},
     "output_type": "execute_result"
    }
   ],
   "source": [
    "final_output.value_counts()"
   ]
  }
 ],
 "metadata": {
  "kernelspec": {
   "display_name": "Python 3 (ipykernel)",
   "language": "python",
   "name": "python3"
  },
  "language_info": {
   "codemirror_mode": {
    "name": "ipython",
    "version": 3
   },
   "file_extension": ".py",
   "mimetype": "text/x-python",
   "name": "python",
   "nbconvert_exporter": "python",
   "pygments_lexer": "ipython3",
   "version": "3.12.4"
  }
 },
 "nbformat": 4,
 "nbformat_minor": 5
}
